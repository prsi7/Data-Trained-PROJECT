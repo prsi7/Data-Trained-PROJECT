{
 "cells": [
  {
   "cell_type": "markdown",
   "id": "uniform-sample",
   "metadata": {},
   "source": [
    "# Titanic Project\n",
    "Problem Statement:\n",
    " The Titanic Problem is based on the sinking of the ‘Unsinkable’ ship Titanic in early 1912. It gives you information about multiple people like their ages, sexes, sibling counts, embarkment points, and whether or not they survived the disaster. Based on these features, you have to predict if an arbitrary passenger on Titanic would survive the sinking or not. \n",
    "\n",
    "Note: You can find the dataset in the link below.\n",
    "Downlaod Files:\n",
    "https://github.com/dsrscientist/dataset1/blob/master/titanic_train.csv"
   ]
  },
  {
   "cell_type": "code",
   "execution_count": 1,
   "id": "instant-thumbnail",
   "metadata": {},
   "outputs": [],
   "source": [
    "import pandas as pd \n",
    "import numpy as np \n",
    "import matplotlib.pyplot as plt \n",
    "import seaborn as sns "
   ]
  },
  {
   "cell_type": "code",
   "execution_count": 2,
   "id": "progressive-championship",
   "metadata": {},
   "outputs": [],
   "source": [
    "df= pd.read_csv('titanic.csv')"
   ]
  },
  {
   "cell_type": "code",
   "execution_count": 3,
   "id": "boxed-springer",
   "metadata": {},
   "outputs": [
    {
     "data": {
      "text/html": [
       "<div>\n",
       "<style scoped>\n",
       "    .dataframe tbody tr th:only-of-type {\n",
       "        vertical-align: middle;\n",
       "    }\n",
       "\n",
       "    .dataframe tbody tr th {\n",
       "        vertical-align: top;\n",
       "    }\n",
       "\n",
       "    .dataframe thead th {\n",
       "        text-align: right;\n",
       "    }\n",
       "</style>\n",
       "<table border=\"1\" class=\"dataframe\">\n",
       "  <thead>\n",
       "    <tr style=\"text-align: right;\">\n",
       "      <th></th>\n",
       "      <th>PassengerId</th>\n",
       "      <th>Survived</th>\n",
       "      <th>Pclass</th>\n",
       "      <th>Name</th>\n",
       "      <th>Sex</th>\n",
       "      <th>Age</th>\n",
       "      <th>SibSp</th>\n",
       "      <th>Parch</th>\n",
       "      <th>Ticket</th>\n",
       "      <th>Fare</th>\n",
       "      <th>Cabin</th>\n",
       "      <th>Embarked</th>\n",
       "    </tr>\n",
       "  </thead>\n",
       "  <tbody>\n",
       "    <tr>\n",
       "      <th>0</th>\n",
       "      <td>1</td>\n",
       "      <td>0</td>\n",
       "      <td>3</td>\n",
       "      <td>Braund, Mr. Owen Harris</td>\n",
       "      <td>male</td>\n",
       "      <td>22.0</td>\n",
       "      <td>1</td>\n",
       "      <td>0</td>\n",
       "      <td>A/5 21171</td>\n",
       "      <td>7.2500</td>\n",
       "      <td>NaN</td>\n",
       "      <td>S</td>\n",
       "    </tr>\n",
       "    <tr>\n",
       "      <th>1</th>\n",
       "      <td>2</td>\n",
       "      <td>1</td>\n",
       "      <td>1</td>\n",
       "      <td>Cumings, Mrs. John Bradley (Florence Briggs Th...</td>\n",
       "      <td>female</td>\n",
       "      <td>38.0</td>\n",
       "      <td>1</td>\n",
       "      <td>0</td>\n",
       "      <td>PC 17599</td>\n",
       "      <td>71.2833</td>\n",
       "      <td>C85</td>\n",
       "      <td>C</td>\n",
       "    </tr>\n",
       "    <tr>\n",
       "      <th>2</th>\n",
       "      <td>3</td>\n",
       "      <td>1</td>\n",
       "      <td>3</td>\n",
       "      <td>Heikkinen, Miss. Laina</td>\n",
       "      <td>female</td>\n",
       "      <td>26.0</td>\n",
       "      <td>0</td>\n",
       "      <td>0</td>\n",
       "      <td>STON/O2. 3101282</td>\n",
       "      <td>7.9250</td>\n",
       "      <td>NaN</td>\n",
       "      <td>S</td>\n",
       "    </tr>\n",
       "    <tr>\n",
       "      <th>3</th>\n",
       "      <td>4</td>\n",
       "      <td>1</td>\n",
       "      <td>1</td>\n",
       "      <td>Futrelle, Mrs. Jacques Heath (Lily May Peel)</td>\n",
       "      <td>female</td>\n",
       "      <td>35.0</td>\n",
       "      <td>1</td>\n",
       "      <td>0</td>\n",
       "      <td>113803</td>\n",
       "      <td>53.1000</td>\n",
       "      <td>C123</td>\n",
       "      <td>S</td>\n",
       "    </tr>\n",
       "    <tr>\n",
       "      <th>4</th>\n",
       "      <td>5</td>\n",
       "      <td>0</td>\n",
       "      <td>3</td>\n",
       "      <td>Allen, Mr. William Henry</td>\n",
       "      <td>male</td>\n",
       "      <td>35.0</td>\n",
       "      <td>0</td>\n",
       "      <td>0</td>\n",
       "      <td>373450</td>\n",
       "      <td>8.0500</td>\n",
       "      <td>NaN</td>\n",
       "      <td>S</td>\n",
       "    </tr>\n",
       "  </tbody>\n",
       "</table>\n",
       "</div>"
      ],
      "text/plain": [
       "   PassengerId  Survived  Pclass  \\\n",
       "0            1         0       3   \n",
       "1            2         1       1   \n",
       "2            3         1       3   \n",
       "3            4         1       1   \n",
       "4            5         0       3   \n",
       "\n",
       "                                                Name     Sex   Age  SibSp  \\\n",
       "0                            Braund, Mr. Owen Harris    male  22.0      1   \n",
       "1  Cumings, Mrs. John Bradley (Florence Briggs Th...  female  38.0      1   \n",
       "2                             Heikkinen, Miss. Laina  female  26.0      0   \n",
       "3       Futrelle, Mrs. Jacques Heath (Lily May Peel)  female  35.0      1   \n",
       "4                           Allen, Mr. William Henry    male  35.0      0   \n",
       "\n",
       "   Parch            Ticket     Fare Cabin Embarked  \n",
       "0      0         A/5 21171   7.2500   NaN        S  \n",
       "1      0          PC 17599  71.2833   C85        C  \n",
       "2      0  STON/O2. 3101282   7.9250   NaN        S  \n",
       "3      0            113803  53.1000  C123        S  \n",
       "4      0            373450   8.0500   NaN        S  "
      ]
     },
     "execution_count": 3,
     "metadata": {},
     "output_type": "execute_result"
    }
   ],
   "source": [
    "df.head()\n"
   ]
  },
  {
   "cell_type": "code",
   "execution_count": 4,
   "id": "passive-signature",
   "metadata": {
    "scrolled": false
   },
   "outputs": [
    {
     "name": "stdout",
     "output_type": "stream",
     "text": [
      "<class 'pandas.core.frame.DataFrame'>\n",
      "RangeIndex: 891 entries, 0 to 890\n",
      "Data columns (total 12 columns):\n",
      " #   Column       Non-Null Count  Dtype  \n",
      "---  ------       --------------  -----  \n",
      " 0   PassengerId  891 non-null    int64  \n",
      " 1   Survived     891 non-null    int64  \n",
      " 2   Pclass       891 non-null    int64  \n",
      " 3   Name         891 non-null    object \n",
      " 4   Sex          891 non-null    object \n",
      " 5   Age          714 non-null    float64\n",
      " 6   SibSp        891 non-null    int64  \n",
      " 7   Parch        891 non-null    int64  \n",
      " 8   Ticket       891 non-null    object \n",
      " 9   Fare         891 non-null    float64\n",
      " 10  Cabin        204 non-null    object \n",
      " 11  Embarked     889 non-null    object \n",
      "dtypes: float64(2), int64(5), object(5)\n",
      "memory usage: 83.7+ KB\n"
     ]
    }
   ],
   "source": [
    "df.info()"
   ]
  },
  {
   "cell_type": "markdown",
   "id": "herbal-approach",
   "metadata": {},
   "source": [
    "There are 4 object type columns in which Name column we will remove rest we try to encode "
   ]
  },
  {
   "cell_type": "markdown",
   "id": "federal-leader",
   "metadata": {},
   "source": [
    "CHECKING FOR DUBLICATES "
   ]
  },
  {
   "cell_type": "code",
   "execution_count": 5,
   "id": "southern-fraction",
   "metadata": {},
   "outputs": [
    {
     "data": {
      "text/plain": [
       "0"
      ]
     },
     "execution_count": 5,
     "metadata": {},
     "output_type": "execute_result"
    }
   ],
   "source": [
    "sum(df.duplicated())"
   ]
  },
  {
   "cell_type": "markdown",
   "id": "marine-livestock",
   "metadata": {},
   "source": [
    "# ENCODING THE DATA"
   ]
  },
  {
   "cell_type": "code",
   "execution_count": 6,
   "id": "intimate-advice",
   "metadata": {},
   "outputs": [],
   "source": [
    "from sklearn.preprocessing import LabelEncoder\n",
    "le=LabelEncoder()"
   ]
  },
  {
   "cell_type": "code",
   "execution_count": 7,
   "id": "instant-transparency",
   "metadata": {
    "scrolled": true
   },
   "outputs": [
    {
     "data": {
      "text/html": [
       "<div>\n",
       "<style scoped>\n",
       "    .dataframe tbody tr th:only-of-type {\n",
       "        vertical-align: middle;\n",
       "    }\n",
       "\n",
       "    .dataframe tbody tr th {\n",
       "        vertical-align: top;\n",
       "    }\n",
       "\n",
       "    .dataframe thead th {\n",
       "        text-align: right;\n",
       "    }\n",
       "</style>\n",
       "<table border=\"1\" class=\"dataframe\">\n",
       "  <thead>\n",
       "    <tr style=\"text-align: right;\">\n",
       "      <th></th>\n",
       "      <th>PassengerId</th>\n",
       "      <th>Survived</th>\n",
       "      <th>Pclass</th>\n",
       "      <th>Name</th>\n",
       "      <th>Sex</th>\n",
       "      <th>Age</th>\n",
       "      <th>SibSp</th>\n",
       "      <th>Parch</th>\n",
       "      <th>Ticket</th>\n",
       "      <th>Fare</th>\n",
       "      <th>Cabin</th>\n",
       "      <th>Embarked</th>\n",
       "    </tr>\n",
       "  </thead>\n",
       "  <tbody>\n",
       "    <tr>\n",
       "      <th>0</th>\n",
       "      <td>1</td>\n",
       "      <td>0</td>\n",
       "      <td>3</td>\n",
       "      <td>Braund, Mr. Owen Harris</td>\n",
       "      <td>1</td>\n",
       "      <td>22.0</td>\n",
       "      <td>1</td>\n",
       "      <td>0</td>\n",
       "      <td>A/5 21171</td>\n",
       "      <td>7.2500</td>\n",
       "      <td>NaN</td>\n",
       "      <td>S</td>\n",
       "    </tr>\n",
       "    <tr>\n",
       "      <th>1</th>\n",
       "      <td>2</td>\n",
       "      <td>1</td>\n",
       "      <td>1</td>\n",
       "      <td>Cumings, Mrs. John Bradley (Florence Briggs Th...</td>\n",
       "      <td>0</td>\n",
       "      <td>38.0</td>\n",
       "      <td>1</td>\n",
       "      <td>0</td>\n",
       "      <td>PC 17599</td>\n",
       "      <td>71.2833</td>\n",
       "      <td>C85</td>\n",
       "      <td>C</td>\n",
       "    </tr>\n",
       "    <tr>\n",
       "      <th>2</th>\n",
       "      <td>3</td>\n",
       "      <td>1</td>\n",
       "      <td>3</td>\n",
       "      <td>Heikkinen, Miss. Laina</td>\n",
       "      <td>0</td>\n",
       "      <td>26.0</td>\n",
       "      <td>0</td>\n",
       "      <td>0</td>\n",
       "      <td>STON/O2. 3101282</td>\n",
       "      <td>7.9250</td>\n",
       "      <td>NaN</td>\n",
       "      <td>S</td>\n",
       "    </tr>\n",
       "    <tr>\n",
       "      <th>3</th>\n",
       "      <td>4</td>\n",
       "      <td>1</td>\n",
       "      <td>1</td>\n",
       "      <td>Futrelle, Mrs. Jacques Heath (Lily May Peel)</td>\n",
       "      <td>0</td>\n",
       "      <td>35.0</td>\n",
       "      <td>1</td>\n",
       "      <td>0</td>\n",
       "      <td>113803</td>\n",
       "      <td>53.1000</td>\n",
       "      <td>C123</td>\n",
       "      <td>S</td>\n",
       "    </tr>\n",
       "    <tr>\n",
       "      <th>4</th>\n",
       "      <td>5</td>\n",
       "      <td>0</td>\n",
       "      <td>3</td>\n",
       "      <td>Allen, Mr. William Henry</td>\n",
       "      <td>1</td>\n",
       "      <td>35.0</td>\n",
       "      <td>0</td>\n",
       "      <td>0</td>\n",
       "      <td>373450</td>\n",
       "      <td>8.0500</td>\n",
       "      <td>NaN</td>\n",
       "      <td>S</td>\n",
       "    </tr>\n",
       "    <tr>\n",
       "      <th>...</th>\n",
       "      <td>...</td>\n",
       "      <td>...</td>\n",
       "      <td>...</td>\n",
       "      <td>...</td>\n",
       "      <td>...</td>\n",
       "      <td>...</td>\n",
       "      <td>...</td>\n",
       "      <td>...</td>\n",
       "      <td>...</td>\n",
       "      <td>...</td>\n",
       "      <td>...</td>\n",
       "      <td>...</td>\n",
       "    </tr>\n",
       "    <tr>\n",
       "      <th>886</th>\n",
       "      <td>887</td>\n",
       "      <td>0</td>\n",
       "      <td>2</td>\n",
       "      <td>Montvila, Rev. Juozas</td>\n",
       "      <td>1</td>\n",
       "      <td>27.0</td>\n",
       "      <td>0</td>\n",
       "      <td>0</td>\n",
       "      <td>211536</td>\n",
       "      <td>13.0000</td>\n",
       "      <td>NaN</td>\n",
       "      <td>S</td>\n",
       "    </tr>\n",
       "    <tr>\n",
       "      <th>887</th>\n",
       "      <td>888</td>\n",
       "      <td>1</td>\n",
       "      <td>1</td>\n",
       "      <td>Graham, Miss. Margaret Edith</td>\n",
       "      <td>0</td>\n",
       "      <td>19.0</td>\n",
       "      <td>0</td>\n",
       "      <td>0</td>\n",
       "      <td>112053</td>\n",
       "      <td>30.0000</td>\n",
       "      <td>B42</td>\n",
       "      <td>S</td>\n",
       "    </tr>\n",
       "    <tr>\n",
       "      <th>888</th>\n",
       "      <td>889</td>\n",
       "      <td>0</td>\n",
       "      <td>3</td>\n",
       "      <td>Johnston, Miss. Catherine Helen \"Carrie\"</td>\n",
       "      <td>0</td>\n",
       "      <td>NaN</td>\n",
       "      <td>1</td>\n",
       "      <td>2</td>\n",
       "      <td>W./C. 6607</td>\n",
       "      <td>23.4500</td>\n",
       "      <td>NaN</td>\n",
       "      <td>S</td>\n",
       "    </tr>\n",
       "    <tr>\n",
       "      <th>889</th>\n",
       "      <td>890</td>\n",
       "      <td>1</td>\n",
       "      <td>1</td>\n",
       "      <td>Behr, Mr. Karl Howell</td>\n",
       "      <td>1</td>\n",
       "      <td>26.0</td>\n",
       "      <td>0</td>\n",
       "      <td>0</td>\n",
       "      <td>111369</td>\n",
       "      <td>30.0000</td>\n",
       "      <td>C148</td>\n",
       "      <td>C</td>\n",
       "    </tr>\n",
       "    <tr>\n",
       "      <th>890</th>\n",
       "      <td>891</td>\n",
       "      <td>0</td>\n",
       "      <td>3</td>\n",
       "      <td>Dooley, Mr. Patrick</td>\n",
       "      <td>1</td>\n",
       "      <td>32.0</td>\n",
       "      <td>0</td>\n",
       "      <td>0</td>\n",
       "      <td>370376</td>\n",
       "      <td>7.7500</td>\n",
       "      <td>NaN</td>\n",
       "      <td>Q</td>\n",
       "    </tr>\n",
       "  </tbody>\n",
       "</table>\n",
       "<p>891 rows × 12 columns</p>\n",
       "</div>"
      ],
      "text/plain": [
       "     PassengerId  Survived  Pclass  \\\n",
       "0              1         0       3   \n",
       "1              2         1       1   \n",
       "2              3         1       3   \n",
       "3              4         1       1   \n",
       "4              5         0       3   \n",
       "..           ...       ...     ...   \n",
       "886          887         0       2   \n",
       "887          888         1       1   \n",
       "888          889         0       3   \n",
       "889          890         1       1   \n",
       "890          891         0       3   \n",
       "\n",
       "                                                  Name  Sex   Age  SibSp  \\\n",
       "0                              Braund, Mr. Owen Harris    1  22.0      1   \n",
       "1    Cumings, Mrs. John Bradley (Florence Briggs Th...    0  38.0      1   \n",
       "2                               Heikkinen, Miss. Laina    0  26.0      0   \n",
       "3         Futrelle, Mrs. Jacques Heath (Lily May Peel)    0  35.0      1   \n",
       "4                             Allen, Mr. William Henry    1  35.0      0   \n",
       "..                                                 ...  ...   ...    ...   \n",
       "886                              Montvila, Rev. Juozas    1  27.0      0   \n",
       "887                       Graham, Miss. Margaret Edith    0  19.0      0   \n",
       "888           Johnston, Miss. Catherine Helen \"Carrie\"    0   NaN      1   \n",
       "889                              Behr, Mr. Karl Howell    1  26.0      0   \n",
       "890                                Dooley, Mr. Patrick    1  32.0      0   \n",
       "\n",
       "     Parch            Ticket     Fare Cabin Embarked  \n",
       "0        0         A/5 21171   7.2500   NaN        S  \n",
       "1        0          PC 17599  71.2833   C85        C  \n",
       "2        0  STON/O2. 3101282   7.9250   NaN        S  \n",
       "3        0            113803  53.1000  C123        S  \n",
       "4        0            373450   8.0500   NaN        S  \n",
       "..     ...               ...      ...   ...      ...  \n",
       "886      0            211536  13.0000   NaN        S  \n",
       "887      0            112053  30.0000   B42        S  \n",
       "888      2        W./C. 6607  23.4500   NaN        S  \n",
       "889      0            111369  30.0000  C148        C  \n",
       "890      0            370376   7.7500   NaN        Q  \n",
       "\n",
       "[891 rows x 12 columns]"
      ]
     },
     "execution_count": 7,
     "metadata": {},
     "output_type": "execute_result"
    }
   ],
   "source": [
    "df['Sex']=le.fit_transform(df.Sex)\n",
    "df"
   ]
  },
  {
   "cell_type": "code",
   "execution_count": 8,
   "id": "opponent-royal",
   "metadata": {},
   "outputs": [
    {
     "name": "stdout",
     "output_type": "stream",
     "text": [
      "S    644\n",
      "C    168\n",
      "Q     77\n",
      "Name: Embarked, dtype: int64\n"
     ]
    },
    {
     "data": {
      "text/html": [
       "<div>\n",
       "<style scoped>\n",
       "    .dataframe tbody tr th:only-of-type {\n",
       "        vertical-align: middle;\n",
       "    }\n",
       "\n",
       "    .dataframe tbody tr th {\n",
       "        vertical-align: top;\n",
       "    }\n",
       "\n",
       "    .dataframe thead th {\n",
       "        text-align: right;\n",
       "    }\n",
       "</style>\n",
       "<table border=\"1\" class=\"dataframe\">\n",
       "  <thead>\n",
       "    <tr style=\"text-align: right;\">\n",
       "      <th></th>\n",
       "      <th>PassengerId</th>\n",
       "      <th>Survived</th>\n",
       "      <th>Pclass</th>\n",
       "      <th>Name</th>\n",
       "      <th>Sex</th>\n",
       "      <th>Age</th>\n",
       "      <th>SibSp</th>\n",
       "      <th>Parch</th>\n",
       "      <th>Ticket</th>\n",
       "      <th>Fare</th>\n",
       "      <th>Cabin</th>\n",
       "      <th>Embarked</th>\n",
       "    </tr>\n",
       "  </thead>\n",
       "  <tbody>\n",
       "    <tr>\n",
       "      <th>0</th>\n",
       "      <td>1</td>\n",
       "      <td>0</td>\n",
       "      <td>3</td>\n",
       "      <td>Braund, Mr. Owen Harris</td>\n",
       "      <td>1</td>\n",
       "      <td>22.0</td>\n",
       "      <td>1</td>\n",
       "      <td>0</td>\n",
       "      <td>A/5 21171</td>\n",
       "      <td>7.2500</td>\n",
       "      <td>NaN</td>\n",
       "      <td>2</td>\n",
       "    </tr>\n",
       "    <tr>\n",
       "      <th>1</th>\n",
       "      <td>2</td>\n",
       "      <td>1</td>\n",
       "      <td>1</td>\n",
       "      <td>Cumings, Mrs. John Bradley (Florence Briggs Th...</td>\n",
       "      <td>0</td>\n",
       "      <td>38.0</td>\n",
       "      <td>1</td>\n",
       "      <td>0</td>\n",
       "      <td>PC 17599</td>\n",
       "      <td>71.2833</td>\n",
       "      <td>C85</td>\n",
       "      <td>0</td>\n",
       "    </tr>\n",
       "    <tr>\n",
       "      <th>2</th>\n",
       "      <td>3</td>\n",
       "      <td>1</td>\n",
       "      <td>3</td>\n",
       "      <td>Heikkinen, Miss. Laina</td>\n",
       "      <td>0</td>\n",
       "      <td>26.0</td>\n",
       "      <td>0</td>\n",
       "      <td>0</td>\n",
       "      <td>STON/O2. 3101282</td>\n",
       "      <td>7.9250</td>\n",
       "      <td>NaN</td>\n",
       "      <td>2</td>\n",
       "    </tr>\n",
       "    <tr>\n",
       "      <th>3</th>\n",
       "      <td>4</td>\n",
       "      <td>1</td>\n",
       "      <td>1</td>\n",
       "      <td>Futrelle, Mrs. Jacques Heath (Lily May Peel)</td>\n",
       "      <td>0</td>\n",
       "      <td>35.0</td>\n",
       "      <td>1</td>\n",
       "      <td>0</td>\n",
       "      <td>113803</td>\n",
       "      <td>53.1000</td>\n",
       "      <td>C123</td>\n",
       "      <td>2</td>\n",
       "    </tr>\n",
       "    <tr>\n",
       "      <th>4</th>\n",
       "      <td>5</td>\n",
       "      <td>0</td>\n",
       "      <td>3</td>\n",
       "      <td>Allen, Mr. William Henry</td>\n",
       "      <td>1</td>\n",
       "      <td>35.0</td>\n",
       "      <td>0</td>\n",
       "      <td>0</td>\n",
       "      <td>373450</td>\n",
       "      <td>8.0500</td>\n",
       "      <td>NaN</td>\n",
       "      <td>2</td>\n",
       "    </tr>\n",
       "  </tbody>\n",
       "</table>\n",
       "</div>"
      ],
      "text/plain": [
       "   PassengerId  Survived  Pclass  \\\n",
       "0            1         0       3   \n",
       "1            2         1       1   \n",
       "2            3         1       3   \n",
       "3            4         1       1   \n",
       "4            5         0       3   \n",
       "\n",
       "                                                Name  Sex   Age  SibSp  Parch  \\\n",
       "0                            Braund, Mr. Owen Harris    1  22.0      1      0   \n",
       "1  Cumings, Mrs. John Bradley (Florence Briggs Th...    0  38.0      1      0   \n",
       "2                             Heikkinen, Miss. Laina    0  26.0      0      0   \n",
       "3       Futrelle, Mrs. Jacques Heath (Lily May Peel)    0  35.0      1      0   \n",
       "4                           Allen, Mr. William Henry    1  35.0      0      0   \n",
       "\n",
       "             Ticket     Fare Cabin  Embarked  \n",
       "0         A/5 21171   7.2500   NaN         2  \n",
       "1          PC 17599  71.2833   C85         0  \n",
       "2  STON/O2. 3101282   7.9250   NaN         2  \n",
       "3            113803  53.1000  C123         2  \n",
       "4            373450   8.0500   NaN         2  "
      ]
     },
     "execution_count": 8,
     "metadata": {},
     "output_type": "execute_result"
    }
   ],
   "source": [
    "print(df.Embarked.value_counts())\n",
    "df['Embarked']=le.fit_transform(df.Embarked)\n",
    "df.head()"
   ]
  },
  {
   "cell_type": "code",
   "execution_count": 9,
   "id": "forward-sister",
   "metadata": {
    "scrolled": true
   },
   "outputs": [
    {
     "name": "stdout",
     "output_type": "stream",
     "text": [
      "347082       7\n",
      "1601         7\n",
      "CA. 2343     7\n",
      "347088       6\n",
      "CA 2144      6\n",
      "            ..\n",
      "33638        1\n",
      "PC 17585     1\n",
      "345781       1\n",
      "A/5 21174    1\n",
      "113059       1\n",
      "Name: Ticket, Length: 681, dtype: int64\n"
     ]
    },
    {
     "data": {
      "text/html": [
       "<div>\n",
       "<style scoped>\n",
       "    .dataframe tbody tr th:only-of-type {\n",
       "        vertical-align: middle;\n",
       "    }\n",
       "\n",
       "    .dataframe tbody tr th {\n",
       "        vertical-align: top;\n",
       "    }\n",
       "\n",
       "    .dataframe thead th {\n",
       "        text-align: right;\n",
       "    }\n",
       "</style>\n",
       "<table border=\"1\" class=\"dataframe\">\n",
       "  <thead>\n",
       "    <tr style=\"text-align: right;\">\n",
       "      <th></th>\n",
       "      <th>PassengerId</th>\n",
       "      <th>Survived</th>\n",
       "      <th>Pclass</th>\n",
       "      <th>Name</th>\n",
       "      <th>Sex</th>\n",
       "      <th>Age</th>\n",
       "      <th>SibSp</th>\n",
       "      <th>Parch</th>\n",
       "      <th>Ticket</th>\n",
       "      <th>Fare</th>\n",
       "      <th>Cabin</th>\n",
       "      <th>Embarked</th>\n",
       "    </tr>\n",
       "  </thead>\n",
       "  <tbody>\n",
       "    <tr>\n",
       "      <th>0</th>\n",
       "      <td>1</td>\n",
       "      <td>0</td>\n",
       "      <td>3</td>\n",
       "      <td>Braund, Mr. Owen Harris</td>\n",
       "      <td>1</td>\n",
       "      <td>22.0</td>\n",
       "      <td>1</td>\n",
       "      <td>0</td>\n",
       "      <td>523</td>\n",
       "      <td>7.2500</td>\n",
       "      <td>NaN</td>\n",
       "      <td>2</td>\n",
       "    </tr>\n",
       "    <tr>\n",
       "      <th>1</th>\n",
       "      <td>2</td>\n",
       "      <td>1</td>\n",
       "      <td>1</td>\n",
       "      <td>Cumings, Mrs. John Bradley (Florence Briggs Th...</td>\n",
       "      <td>0</td>\n",
       "      <td>38.0</td>\n",
       "      <td>1</td>\n",
       "      <td>0</td>\n",
       "      <td>596</td>\n",
       "      <td>71.2833</td>\n",
       "      <td>C85</td>\n",
       "      <td>0</td>\n",
       "    </tr>\n",
       "    <tr>\n",
       "      <th>2</th>\n",
       "      <td>3</td>\n",
       "      <td>1</td>\n",
       "      <td>3</td>\n",
       "      <td>Heikkinen, Miss. Laina</td>\n",
       "      <td>0</td>\n",
       "      <td>26.0</td>\n",
       "      <td>0</td>\n",
       "      <td>0</td>\n",
       "      <td>669</td>\n",
       "      <td>7.9250</td>\n",
       "      <td>NaN</td>\n",
       "      <td>2</td>\n",
       "    </tr>\n",
       "    <tr>\n",
       "      <th>3</th>\n",
       "      <td>4</td>\n",
       "      <td>1</td>\n",
       "      <td>1</td>\n",
       "      <td>Futrelle, Mrs. Jacques Heath (Lily May Peel)</td>\n",
       "      <td>0</td>\n",
       "      <td>35.0</td>\n",
       "      <td>1</td>\n",
       "      <td>0</td>\n",
       "      <td>49</td>\n",
       "      <td>53.1000</td>\n",
       "      <td>C123</td>\n",
       "      <td>2</td>\n",
       "    </tr>\n",
       "    <tr>\n",
       "      <th>4</th>\n",
       "      <td>5</td>\n",
       "      <td>0</td>\n",
       "      <td>3</td>\n",
       "      <td>Allen, Mr. William Henry</td>\n",
       "      <td>1</td>\n",
       "      <td>35.0</td>\n",
       "      <td>0</td>\n",
       "      <td>0</td>\n",
       "      <td>472</td>\n",
       "      <td>8.0500</td>\n",
       "      <td>NaN</td>\n",
       "      <td>2</td>\n",
       "    </tr>\n",
       "  </tbody>\n",
       "</table>\n",
       "</div>"
      ],
      "text/plain": [
       "   PassengerId  Survived  Pclass  \\\n",
       "0            1         0       3   \n",
       "1            2         1       1   \n",
       "2            3         1       3   \n",
       "3            4         1       1   \n",
       "4            5         0       3   \n",
       "\n",
       "                                                Name  Sex   Age  SibSp  Parch  \\\n",
       "0                            Braund, Mr. Owen Harris    1  22.0      1      0   \n",
       "1  Cumings, Mrs. John Bradley (Florence Briggs Th...    0  38.0      1      0   \n",
       "2                             Heikkinen, Miss. Laina    0  26.0      0      0   \n",
       "3       Futrelle, Mrs. Jacques Heath (Lily May Peel)    0  35.0      1      0   \n",
       "4                           Allen, Mr. William Henry    1  35.0      0      0   \n",
       "\n",
       "   Ticket     Fare Cabin  Embarked  \n",
       "0     523   7.2500   NaN         2  \n",
       "1     596  71.2833   C85         0  \n",
       "2     669   7.9250   NaN         2  \n",
       "3      49  53.1000  C123         2  \n",
       "4     472   8.0500   NaN         2  "
      ]
     },
     "execution_count": 9,
     "metadata": {},
     "output_type": "execute_result"
    }
   ],
   "source": [
    "print(df.Ticket.value_counts())\n",
    "df['Ticket']=le.fit_transform(df.Ticket)\n",
    "df.head()"
   ]
  },
  {
   "cell_type": "code",
   "execution_count": 10,
   "id": "greater-tanzania",
   "metadata": {
    "scrolled": false
   },
   "outputs": [
    {
     "data": {
      "text/plain": [
       "-0.16454913400236726"
      ]
     },
     "execution_count": 10,
     "metadata": {},
     "output_type": "execute_result"
    }
   ],
   "source": [
    "df['Survived'].corr(df['Ticket'])"
   ]
  },
  {
   "cell_type": "markdown",
   "id": "yellow-habitat",
   "metadata": {},
   "source": [
    "MOSTLY HAVING DIFFERENT TICKET TYPES - LATER WILL DROP THIS COLUMNS AS IRRELEVANT"
   ]
  },
  {
   "cell_type": "code",
   "execution_count": 11,
   "id": "numerical-juvenile",
   "metadata": {
    "scrolled": true
   },
   "outputs": [
    {
     "name": "stdout",
     "output_type": "stream",
     "text": [
      "B96 B98        4\n",
      "G6             4\n",
      "C23 C25 C27    4\n",
      "F33            3\n",
      "E101           3\n",
      "              ..\n",
      "C148           1\n",
      "D19            1\n",
      "E12            1\n",
      "C50            1\n",
      "A7             1\n",
      "Name: Cabin, Length: 147, dtype: int64\n"
     ]
    }
   ],
   "source": [
    "print(df.Cabin.value_counts())"
   ]
  },
  {
   "cell_type": "markdown",
   "id": "inner-stations",
   "metadata": {},
   "source": [
    "from just 204 data - 147 are unique values, we can't fill the data with mode values and it doen't make sense so will remove this columns too "
   ]
  },
  {
   "cell_type": "markdown",
   "id": "powered-rochester",
   "metadata": {},
   "source": [
    "# checking for null value"
   ]
  },
  {
   "cell_type": "code",
   "execution_count": 13,
   "id": "caroline-enzyme",
   "metadata": {
    "scrolled": false
   },
   "outputs": [
    {
     "data": {
      "text/plain": [
       "<AxesSubplot:>"
      ]
     },
     "execution_count": 13,
     "metadata": {},
     "output_type": "execute_result"
    },
    {
     "data": {
      "image/png": "[encoded data removed]",
      "text/plain": [
       "<Figure size 432x288 with 2 Axes>"
      ]
     },
     "metadata": {
      "needs_background": "light"
     },
     "output_type": "display_data"
    }
   ],
   "source": [
    "sns.heatmap(df.isnull())"
   ]
  },
  {
   "cell_type": "markdown",
   "id": "numerical-advice",
   "metadata": {},
   "source": [
    "WIll ignore the cabin column as we going to remove it                  \n",
    "rest Age columns need to be filled "
   ]
  },
  {
   "cell_type": "code",
   "execution_count": 14,
   "id": "spare-cylinder",
   "metadata": {
    "scrolled": false
   },
   "outputs": [
    {
     "data": {
      "text/plain": [
       "PassengerId      0\n",
       "Survived         0\n",
       "Pclass           0\n",
       "Name             0\n",
       "Sex              0\n",
       "Age            177\n",
       "SibSp            0\n",
       "Parch            0\n",
       "Ticket           0\n",
       "Fare             0\n",
       "Cabin          687\n",
       "Embarked         0\n",
       "dtype: int64"
      ]
     },
     "execution_count": 14,
     "metadata": {},
     "output_type": "execute_result"
    }
   ],
   "source": [
    "df.isna().sum()"
   ]
  },
  {
   "cell_type": "code",
   "execution_count": 15,
   "id": "satellite-prevention",
   "metadata": {
    "scrolled": true
   },
   "outputs": [
    {
     "data": {
      "text/plain": [
       "<AxesSubplot:xlabel='Survived', ylabel='count'>"
      ]
     },
     "execution_count": 15,
     "metadata": {},
     "output_type": "execute_result"
    },
    {
     "data": {
      "image/png": "[encoded data removed]",
      "text/plain": [
       "<Figure size 432x288 with 1 Axes>"
      ]
     },
     "metadata": {
      "needs_background": "light"
     },
     "output_type": "display_data"
    }
   ],
   "source": [
    "sns.countplot(x='Survived',data=df)"
   ]
  },
  {
   "cell_type": "markdown",
   "id": "celtic-heater",
   "metadata": {},
   "source": [
    "TARGET DISTRIBUTION IS APPROPRIATE "
   ]
  },
  {
   "cell_type": "code",
   "execution_count": 140,
   "id": "impressive-attention",
   "metadata": {
    "scrolled": true
   },
   "outputs": [
    {
     "data": {
      "text/plain": [
       "<AxesSubplot:xlabel='Pclass', ylabel='count'>"
      ]
     },
     "execution_count": 140,
     "metadata": {},
     "output_type": "execute_result"
    },
    {
     "data": {
      "image/png": "[encoded data removed]",
      "text/plain": [
       "<Figure size 432x288 with 1 Axes>"
      ]
     },
     "metadata": {
      "needs_background": "light"
     },
     "output_type": "display_data"
    }
   ],
   "source": [
    "sns.countplot(x='Pclass',data=df)"
   ]
  },
  {
   "cell_type": "code",
   "execution_count": 16,
   "id": "employed-lexington",
   "metadata": {
    "scrolled": true
   },
   "outputs": [
    {
     "data": {
      "text/html": [
       "<style  type=\"text/css\" >\n",
       "#T_98d40_row0_col0,#T_98d40_row0_col1,#T_98d40_row0_col2,#T_98d40_row0_col3,#T_98d40_row0_col4,#T_98d40_row0_col6,#T_98d40_row0_col7,#T_98d40_row0_col9,#T_98d40_row0_col10,#T_98d40_row1_col8,#T_98d40_row2_col9,#T_98d40_row3_col3,#T_98d40_row3_col4,#T_98d40_row3_col5,#T_98d40_row3_col8,#T_98d40_row3_col9{\n",
       "            background-color:  #fff7fb;\n",
       "            color:  #000000;\n",
       "        }#T_98d40_row0_col5{\n",
       "            background-color:  #f2ecf5;\n",
       "            color:  #000000;\n",
       "        }#T_98d40_row0_col8{\n",
       "            background-color:  #f5eef6;\n",
       "            color:  #000000;\n",
       "        }#T_98d40_row1_col0{\n",
       "            background-color:  #79abd0;\n",
       "            color:  #000000;\n",
       "        }#T_98d40_row1_col1{\n",
       "            background-color:  #97b7d7;\n",
       "            color:  #000000;\n",
       "        }#T_98d40_row1_col2,#T_98d40_row3_col1{\n",
       "            background-color:  #ede8f3;\n",
       "            color:  #000000;\n",
       "        }#T_98d40_row1_col3,#T_98d40_row2_col3{\n",
       "            background-color:  #73a9cf;\n",
       "            color:  #000000;\n",
       "        }#T_98d40_row1_col4{\n",
       "            background-color:  #2685bb;\n",
       "            color:  #000000;\n",
       "        }#T_98d40_row1_col5{\n",
       "            background-color:  #bfc9e1;\n",
       "            color:  #000000;\n",
       "        }#T_98d40_row1_col6{\n",
       "            background-color:  #adc1dd;\n",
       "            color:  #000000;\n",
       "        }#T_98d40_row1_col7{\n",
       "            background-color:  #afc1dd;\n",
       "            color:  #000000;\n",
       "        }#T_98d40_row1_col9,#T_98d40_row4_col0,#T_98d40_row4_col1,#T_98d40_row4_col2,#T_98d40_row4_col3,#T_98d40_row4_col4,#T_98d40_row4_col5,#T_98d40_row4_col6,#T_98d40_row4_col7,#T_98d40_row4_col8,#T_98d40_row4_col9,#T_98d40_row4_col10{\n",
       "            background-color:  #023858;\n",
       "            color:  #f1f1f1;\n",
       "        }#T_98d40_row1_col10,#T_98d40_row3_col0{\n",
       "            background-color:  #dedcec;\n",
       "            color:  #000000;\n",
       "        }#T_98d40_row2_col0{\n",
       "            background-color:  #c4cbe3;\n",
       "            color:  #000000;\n",
       "        }#T_98d40_row2_col1{\n",
       "            background-color:  #80aed2;\n",
       "            color:  #000000;\n",
       "        }#T_98d40_row2_col2{\n",
       "            background-color:  #8fb4d6;\n",
       "            color:  #000000;\n",
       "        }#T_98d40_row2_col4{\n",
       "            background-color:  #b4c4df;\n",
       "            color:  #000000;\n",
       "        }#T_98d40_row2_col5,#T_98d40_row2_col10{\n",
       "            background-color:  #7dacd1;\n",
       "            color:  #000000;\n",
       "        }#T_98d40_row2_col6{\n",
       "            background-color:  #9fbad9;\n",
       "            color:  #000000;\n",
       "        }#T_98d40_row2_col7{\n",
       "            background-color:  #7bacd1;\n",
       "            color:  #000000;\n",
       "        }#T_98d40_row2_col8{\n",
       "            background-color:  #3991c1;\n",
       "            color:  #000000;\n",
       "        }#T_98d40_row3_col2,#T_98d40_row3_col10{\n",
       "            background-color:  #faf3f9;\n",
       "            color:  #000000;\n",
       "        }#T_98d40_row3_col6{\n",
       "            background-color:  #d9d8ea;\n",
       "            color:  #000000;\n",
       "        }#T_98d40_row3_col7{\n",
       "            background-color:  #f7f0f7;\n",
       "            color:  #000000;\n",
       "        }</style><table id=\"T_98d40_\" ><thead>    <tr>        <th class=\"blank\" ></th>        <th class=\"index_name level0\" >Embarked</th>        <th class=\"col_heading level0 col0\" colspan=\"3\">0</th>        <th class=\"col_heading level0 col3\" colspan=\"3\">1</th>        <th class=\"col_heading level0 col6\" colspan=\"3\">2</th>        <th class=\"col_heading level0 col9\" >3</th>        <th class=\"col_heading level0 col10\" >All</th>    </tr>    <tr>        <th class=\"blank\" ></th>        <th class=\"index_name level1\" >Pclass</th>        <th class=\"col_heading level1 col0\" >1</th>        <th class=\"col_heading level1 col1\" >2</th>        <th class=\"col_heading level1 col2\" >3</th>        <th class=\"col_heading level1 col3\" >1</th>        <th class=\"col_heading level1 col4\" >2</th>        <th class=\"col_heading level1 col5\" >3</th>        <th class=\"col_heading level1 col6\" >1</th>        <th class=\"col_heading level1 col7\" >2</th>        <th class=\"col_heading level1 col8\" >3</th>        <th class=\"col_heading level1 col9\" >1</th>        <th class=\"col_heading level1 col10\" ></th>    </tr>    <tr>        <th class=\"index_name level0\" >Sex</th>        <th class=\"index_name level1\" >Survived</th>        <th class=\"blank\" ></th>        <th class=\"blank\" ></th>        <th class=\"blank\" ></th>        <th class=\"blank\" ></th>        <th class=\"blank\" ></th>        <th class=\"blank\" ></th>        <th class=\"blank\" ></th>        <th class=\"blank\" ></th>        <th class=\"blank\" ></th>        <th class=\"blank\" ></th>        <th class=\"blank\" ></th>    </tr></thead><tbody>\n",
       "                <tr>\n",
       "                        <th id=\"T_98d40_level0_row0\" class=\"row_heading level0 row0\" rowspan=\"2\">0</th>\n",
       "                        <th id=\"T_98d40_level1_row0\" class=\"row_heading level1 row0\" >0</th>\n",
       "                        <td id=\"T_98d40_row0_col0\" class=\"data row0 col0\" >1</td>\n",
       "                        <td id=\"T_98d40_row0_col1\" class=\"data row0 col1\" >0</td>\n",
       "                        <td id=\"T_98d40_row0_col2\" class=\"data row0 col2\" >8</td>\n",
       "                        <td id=\"T_98d40_row0_col3\" class=\"data row0 col3\" >0</td>\n",
       "                        <td id=\"T_98d40_row0_col4\" class=\"data row0 col4\" >0</td>\n",
       "                        <td id=\"T_98d40_row0_col5\" class=\"data row0 col5\" >9</td>\n",
       "                        <td id=\"T_98d40_row0_col6\" class=\"data row0 col6\" >2</td>\n",
       "                        <td id=\"T_98d40_row0_col7\" class=\"data row0 col7\" >6</td>\n",
       "                        <td id=\"T_98d40_row0_col8\" class=\"data row0 col8\" >55</td>\n",
       "                        <td id=\"T_98d40_row0_col9\" class=\"data row0 col9\" >0</td>\n",
       "                        <td id=\"T_98d40_row0_col10\" class=\"data row0 col10\" >81</td>\n",
       "            </tr>\n",
       "            <tr>\n",
       "                                <th id=\"T_98d40_level1_row1\" class=\"row_heading level1 row1\" >1</th>\n",
       "                        <td id=\"T_98d40_row1_col0\" class=\"data row1 col0\" >42</td>\n",
       "                        <td id=\"T_98d40_row1_col1\" class=\"data row1 col1\" >7</td>\n",
       "                        <td id=\"T_98d40_row1_col2\" class=\"data row1 col2\" >15</td>\n",
       "                        <td id=\"T_98d40_row1_col3\" class=\"data row1 col3\" >1</td>\n",
       "                        <td id=\"T_98d40_row1_col4\" class=\"data row1 col4\" >2</td>\n",
       "                        <td id=\"T_98d40_row1_col5\" class=\"data row1 col5\" >24</td>\n",
       "                        <td id=\"T_98d40_row1_col6\" class=\"data row1 col6\" >46</td>\n",
       "                        <td id=\"T_98d40_row1_col7\" class=\"data row1 col7\" >61</td>\n",
       "                        <td id=\"T_98d40_row1_col8\" class=\"data row1 col8\" >33</td>\n",
       "                        <td id=\"T_98d40_row1_col9\" class=\"data row1 col9\" >2</td>\n",
       "                        <td id=\"T_98d40_row1_col10\" class=\"data row1 col10\" >233</td>\n",
       "            </tr>\n",
       "            <tr>\n",
       "                        <th id=\"T_98d40_level0_row2\" class=\"row_heading level0 row2\" rowspan=\"2\">1</th>\n",
       "                        <th id=\"T_98d40_level1_row2\" class=\"row_heading level1 row2\" >0</th>\n",
       "                        <td id=\"T_98d40_row2_col0\" class=\"data row2 col0\" >25</td>\n",
       "                        <td id=\"T_98d40_row2_col1\" class=\"data row2 col1\" >8</td>\n",
       "                        <td id=\"T_98d40_row2_col2\" class=\"data row2 col2\" >33</td>\n",
       "                        <td id=\"T_98d40_row2_col3\" class=\"data row2 col3\" >1</td>\n",
       "                        <td id=\"T_98d40_row2_col4\" class=\"data row2 col4\" >1</td>\n",
       "                        <td id=\"T_98d40_row2_col5\" class=\"data row2 col5\" >36</td>\n",
       "                        <td id=\"T_98d40_row2_col6\" class=\"data row2 col6\" >51</td>\n",
       "                        <td id=\"T_98d40_row2_col7\" class=\"data row2 col7\" >82</td>\n",
       "                        <td id=\"T_98d40_row2_col8\" class=\"data row2 col8\" >231</td>\n",
       "                        <td id=\"T_98d40_row2_col9\" class=\"data row2 col9\" >0</td>\n",
       "                        <td id=\"T_98d40_row2_col10\" class=\"data row2 col10\" >468</td>\n",
       "            </tr>\n",
       "            <tr>\n",
       "                                <th id=\"T_98d40_level1_row3\" class=\"row_heading level1 row3\" >1</th>\n",
       "                        <td id=\"T_98d40_row3_col0\" class=\"data row3 col0\" >17</td>\n",
       "                        <td id=\"T_98d40_row3_col1\" class=\"data row3 col1\" >2</td>\n",
       "                        <td id=\"T_98d40_row3_col2\" class=\"data row3 col2\" >10</td>\n",
       "                        <td id=\"T_98d40_row3_col3\" class=\"data row3 col3\" >0</td>\n",
       "                        <td id=\"T_98d40_row3_col4\" class=\"data row3 col4\" >0</td>\n",
       "                        <td id=\"T_98d40_row3_col5\" class=\"data row3 col5\" >3</td>\n",
       "                        <td id=\"T_98d40_row3_col6\" class=\"data row3 col6\" >28</td>\n",
       "                        <td id=\"T_98d40_row3_col7\" class=\"data row3 col7\" >15</td>\n",
       "                        <td id=\"T_98d40_row3_col8\" class=\"data row3 col8\" >34</td>\n",
       "                        <td id=\"T_98d40_row3_col9\" class=\"data row3 col9\" >0</td>\n",
       "                        <td id=\"T_98d40_row3_col10\" class=\"data row3 col10\" >109</td>\n",
       "            </tr>\n",
       "            <tr>\n",
       "                        <th id=\"T_98d40_level0_row4\" class=\"row_heading level0 row4\" >All</th>\n",
       "                        <th id=\"T_98d40_level1_row4\" class=\"row_heading level1 row4\" ></th>\n",
       "                        <td id=\"T_98d40_row4_col0\" class=\"data row4 col0\" >85</td>\n",
       "                        <td id=\"T_98d40_row4_col1\" class=\"data row4 col1\" >17</td>\n",
       "                        <td id=\"T_98d40_row4_col2\" class=\"data row4 col2\" >66</td>\n",
       "                        <td id=\"T_98d40_row4_col3\" class=\"data row4 col3\" >2</td>\n",
       "                        <td id=\"T_98d40_row4_col4\" class=\"data row4 col4\" >3</td>\n",
       "                        <td id=\"T_98d40_row4_col5\" class=\"data row4 col5\" >72</td>\n",
       "                        <td id=\"T_98d40_row4_col6\" class=\"data row4 col6\" >127</td>\n",
       "                        <td id=\"T_98d40_row4_col7\" class=\"data row4 col7\" >164</td>\n",
       "                        <td id=\"T_98d40_row4_col8\" class=\"data row4 col8\" >353</td>\n",
       "                        <td id=\"T_98d40_row4_col9\" class=\"data row4 col9\" >2</td>\n",
       "                        <td id=\"T_98d40_row4_col10\" class=\"data row4 col10\" >891</td>\n",
       "            </tr>\n",
       "    </tbody></table>"
      ],
      "text/plain": [
       "<pandas.io.formats.style.Styler at 0x250b0a52f70>"
      ]
     },
     "execution_count": 16,
     "metadata": {},
     "output_type": "execute_result"
    }
   ],
   "source": [
    "pd.crosstab([df.Embarked,df.Pclass],[df.Sex,df.Survived],margins=True).T.style.background_gradient()"
   ]
  },
  {
   "cell_type": "code",
   "execution_count": 141,
   "id": "composed-minutes",
   "metadata": {
    "scrolled": true
   },
   "outputs": [
    {
     "data": {
      "text/plain": [
       "<AxesSubplot:xlabel='Pclass', ylabel='count'>"
      ]
     },
     "execution_count": 141,
     "metadata": {},
     "output_type": "execute_result"
    },
    {
     "data": {
      "image/png": "[encoded data removed]",
      "text/plain": [
       "<Figure size 432x288 with 1 Axes>"
      ]
     },
     "metadata": {
      "needs_background": "light"
     },
     "output_type": "display_data"
    }
   ],
   "source": [
    "sns.countplot(x='Pclass',hue='Survived',data=df)"
   ]
  },
  {
   "cell_type": "code",
   "execution_count": null,
   "id": "mathematical-processing",
   "metadata": {},
   "outputs": [],
   "source": []
  },
  {
   "cell_type": "markdown",
   "id": "known-holmes",
   "metadata": {},
   "source": [
    "CATEGORIZING THE AGE AND FARE COLUMN "
   ]
  },
  {
   "cell_type": "code",
   "execution_count": 142,
   "id": "varied-jacksonville",
   "metadata": {},
   "outputs": [
    {
     "ename": "AttributeError",
     "evalue": "'DataFrame' object has no attribute 'Age'",
     "output_type": "error",
     "traceback": [
      "\u001b[1;31m------------\u001b[0m",
      "\u001b[1;31mAttributeError\u001b[0mTraceback (most recent call last)",
      "\u001b[1;32m<ipython-input-142-0706fd8f4fe2>\u001b[0m in \u001b[0;36m<module>\u001b[1;34m\u001b[0m\n\u001b[1;32m----> 1\u001b[1;33m \u001b[0msns\u001b[0m\u001b[1;33m.\u001b[0m\u001b[0mboxplot\u001b[0m\u001b[1;33m(\u001b[0m\u001b[0mdf\u001b[0m\u001b[1;33m.\u001b[0m\u001b[0mAge\u001b[0m\u001b[1;33m)\u001b[0m\u001b[1;33m\u001b[0m\u001b[1;33m\u001b[0m\u001b[0m\n\u001b[0m",
      "\u001b[1;32mF:\\anaconda\\lib\\site-packages\\pandas\\core\\generic.py\u001b[0m in \u001b[0;36m__getattr__\u001b[1;34m(self, name)\u001b[0m\n\u001b[0;32m   5458\u001b[0m             \u001b[1;32mif\u001b[0m \u001b[0mself\u001b[0m\u001b[1;33m.\u001b[0m\u001b[0m_info_axis\u001b[0m\u001b[1;33m.\u001b[0m\u001b[0m_can_hold_identifiers_and_holds_name\u001b[0m\u001b[1;33m(\u001b[0m\u001b[0mname\u001b[0m\u001b[1;33m)\u001b[0m\u001b[1;33m:\u001b[0m\u001b[1;33m\u001b[0m\u001b[1;33m\u001b[0m\u001b[0m\n\u001b[0;32m   5459\u001b[0m                 \u001b[1;32mreturn\u001b[0m \u001b[0mself\u001b[0m\u001b[1;33m[\u001b[0m\u001b[0mname\u001b[0m\u001b[1;33m]\u001b[0m\u001b[1;33m\u001b[0m\u001b[1;33m\u001b[0m\u001b[0m\n\u001b[1;32m-> 5460\u001b[1;33m             \u001b[1;32mreturn\u001b[0m \u001b[0mobject\u001b[0m\u001b[1;33m.\u001b[0m\u001b[0m__getattribute__\u001b[0m\u001b[1;33m(\u001b[0m\u001b[0mself\u001b[0m\u001b[1;33m,\u001b[0m \u001b[0mname\u001b[0m\u001b[1;33m)\u001b[0m\u001b[1;33m\u001b[0m\u001b[1;33m\u001b[0m\u001b[0m\n\u001b[0m\u001b[0;32m   5461\u001b[0m \u001b[1;33m\u001b[0m\u001b[0m\n\u001b[0;32m   5462\u001b[0m     \u001b[1;32mdef\u001b[0m \u001b[0m__setattr__\u001b[0m\u001b[1;33m(\u001b[0m\u001b[0mself\u001b[0m\u001b[1;33m,\u001b[0m \u001b[0mname\u001b[0m\u001b[1;33m:\u001b[0m \u001b[0mstr\u001b[0m\u001b[1;33m,\u001b[0m \u001b[0mvalue\u001b[0m\u001b[1;33m)\u001b[0m \u001b[1;33m->\u001b[0m \u001b[1;32mNone\u001b[0m\u001b[1;33m:\u001b[0m\u001b[1;33m\u001b[0m\u001b[1;33m\u001b[0m\u001b[0m\n",
      "\u001b[1;31mAttributeError\u001b[0m: 'DataFrame' object has no attribute 'Age'"
     ]
    }
   ],
   "source": [
    "sns.boxplot(x='Pclass',data=df)"
   ]
  },
  {
   "cell_type": "code",
   "execution_count": 20,
   "id": "geographic-chase",
   "metadata": {},
   "outputs": [],
   "source": [
    "df['Initial']=0\n",
    "for i in df:\n",
    "  df['Initial']=df.Name.str.extract('([A-Za-z]+)\\.') #lets extract the Salutations"
   ]
  },
  {
   "cell_type": "code",
   "execution_count": 21,
   "id": "roman-negative",
   "metadata": {
    "scrolled": false
   },
   "outputs": [
    {
     "data": {
      "text/html": [
       "<style  type=\"text/css\" >\n",
       "#T_a8ade_row0_col0,#T_a8ade_row0_col1,#T_a8ade_row0_col3,#T_a8ade_row0_col4,#T_a8ade_row0_col5,#T_a8ade_row0_col7,#T_a8ade_row0_col8,#T_a8ade_row0_col12,#T_a8ade_row0_col15,#T_a8ade_row0_col16,#T_a8ade_row1_col2,#T_a8ade_row1_col6,#T_a8ade_row1_col9,#T_a8ade_row1_col10,#T_a8ade_row1_col11,#T_a8ade_row1_col13,#T_a8ade_row1_col14{\n",
       "            background-color:  #fff7fb;\n",
       "            color:  #000000;\n",
       "        }#T_a8ade_row0_col2,#T_a8ade_row0_col6,#T_a8ade_row0_col9,#T_a8ade_row0_col10,#T_a8ade_row0_col11,#T_a8ade_row0_col13,#T_a8ade_row0_col14,#T_a8ade_row1_col0,#T_a8ade_row1_col1,#T_a8ade_row1_col3,#T_a8ade_row1_col4,#T_a8ade_row1_col5,#T_a8ade_row1_col7,#T_a8ade_row1_col8,#T_a8ade_row1_col12,#T_a8ade_row1_col15,#T_a8ade_row1_col16{\n",
       "            background-color:  #023858;\n",
       "            color:  #f1f1f1;\n",
       "        }</style><table id=\"T_a8ade_\" ><thead>    <tr>        <th class=\"index_name level0\" >Initial</th>        <th class=\"col_heading level0 col0\" >Capt</th>        <th class=\"col_heading level0 col1\" >Col</th>        <th class=\"col_heading level0 col2\" >Countess</th>        <th class=\"col_heading level0 col3\" >Don</th>        <th class=\"col_heading level0 col4\" >Dr</th>        <th class=\"col_heading level0 col5\" >Jonkheer</th>        <th class=\"col_heading level0 col6\" >Lady</th>        <th class=\"col_heading level0 col7\" >Major</th>        <th class=\"col_heading level0 col8\" >Master</th>        <th class=\"col_heading level0 col9\" >Miss</th>        <th class=\"col_heading level0 col10\" >Mlle</th>        <th class=\"col_heading level0 col11\" >Mme</th>        <th class=\"col_heading level0 col12\" >Mr</th>        <th class=\"col_heading level0 col13\" >Mrs</th>        <th class=\"col_heading level0 col14\" >Ms</th>        <th class=\"col_heading level0 col15\" >Rev</th>        <th class=\"col_heading level0 col16\" >Sir</th>    </tr>    <tr>        <th class=\"index_name level0\" >Sex</th>        <th class=\"blank\" ></th>        <th class=\"blank\" ></th>        <th class=\"blank\" ></th>        <th class=\"blank\" ></th>        <th class=\"blank\" ></th>        <th class=\"blank\" ></th>        <th class=\"blank\" ></th>        <th class=\"blank\" ></th>        <th class=\"blank\" ></th>        <th class=\"blank\" ></th>        <th class=\"blank\" ></th>        <th class=\"blank\" ></th>        <th class=\"blank\" ></th>        <th class=\"blank\" ></th>        <th class=\"blank\" ></th>        <th class=\"blank\" ></th>        <th class=\"blank\" ></th>    </tr></thead><tbody>\n",
       "                <tr>\n",
       "                        <th id=\"T_a8ade_level0_row0\" class=\"row_heading level0 row0\" >0</th>\n",
       "                        <td id=\"T_a8ade_row0_col0\" class=\"data row0 col0\" >0</td>\n",
       "                        <td id=\"T_a8ade_row0_col1\" class=\"data row0 col1\" >0</td>\n",
       "                        <td id=\"T_a8ade_row0_col2\" class=\"data row0 col2\" >1</td>\n",
       "                        <td id=\"T_a8ade_row0_col3\" class=\"data row0 col3\" >0</td>\n",
       "                        <td id=\"T_a8ade_row0_col4\" class=\"data row0 col4\" >1</td>\n",
       "                        <td id=\"T_a8ade_row0_col5\" class=\"data row0 col5\" >0</td>\n",
       "                        <td id=\"T_a8ade_row0_col6\" class=\"data row0 col6\" >1</td>\n",
       "                        <td id=\"T_a8ade_row0_col7\" class=\"data row0 col7\" >0</td>\n",
       "                        <td id=\"T_a8ade_row0_col8\" class=\"data row0 col8\" >0</td>\n",
       "                        <td id=\"T_a8ade_row0_col9\" class=\"data row0 col9\" >182</td>\n",
       "                        <td id=\"T_a8ade_row0_col10\" class=\"data row0 col10\" >2</td>\n",
       "                        <td id=\"T_a8ade_row0_col11\" class=\"data row0 col11\" >1</td>\n",
       "                        <td id=\"T_a8ade_row0_col12\" class=\"data row0 col12\" >0</td>\n",
       "                        <td id=\"T_a8ade_row0_col13\" class=\"data row0 col13\" >125</td>\n",
       "                        <td id=\"T_a8ade_row0_col14\" class=\"data row0 col14\" >1</td>\n",
       "                        <td id=\"T_a8ade_row0_col15\" class=\"data row0 col15\" >0</td>\n",
       "                        <td id=\"T_a8ade_row0_col16\" class=\"data row0 col16\" >0</td>\n",
       "            </tr>\n",
       "            <tr>\n",
       "                        <th id=\"T_a8ade_level0_row1\" class=\"row_heading level0 row1\" >1</th>\n",
       "                        <td id=\"T_a8ade_row1_col0\" class=\"data row1 col0\" >1</td>\n",
       "                        <td id=\"T_a8ade_row1_col1\" class=\"data row1 col1\" >2</td>\n",
       "                        <td id=\"T_a8ade_row1_col2\" class=\"data row1 col2\" >0</td>\n",
       "                        <td id=\"T_a8ade_row1_col3\" class=\"data row1 col3\" >1</td>\n",
       "                        <td id=\"T_a8ade_row1_col4\" class=\"data row1 col4\" >6</td>\n",
       "                        <td id=\"T_a8ade_row1_col5\" class=\"data row1 col5\" >1</td>\n",
       "                        <td id=\"T_a8ade_row1_col6\" class=\"data row1 col6\" >0</td>\n",
       "                        <td id=\"T_a8ade_row1_col7\" class=\"data row1 col7\" >2</td>\n",
       "                        <td id=\"T_a8ade_row1_col8\" class=\"data row1 col8\" >40</td>\n",
       "                        <td id=\"T_a8ade_row1_col9\" class=\"data row1 col9\" >0</td>\n",
       "                        <td id=\"T_a8ade_row1_col10\" class=\"data row1 col10\" >0</td>\n",
       "                        <td id=\"T_a8ade_row1_col11\" class=\"data row1 col11\" >0</td>\n",
       "                        <td id=\"T_a8ade_row1_col12\" class=\"data row1 col12\" >517</td>\n",
       "                        <td id=\"T_a8ade_row1_col13\" class=\"data row1 col13\" >0</td>\n",
       "                        <td id=\"T_a8ade_row1_col14\" class=\"data row1 col14\" >0</td>\n",
       "                        <td id=\"T_a8ade_row1_col15\" class=\"data row1 col15\" >6</td>\n",
       "                        <td id=\"T_a8ade_row1_col16\" class=\"data row1 col16\" >1</td>\n",
       "            </tr>\n",
       "    </tbody></table>"
      ],
      "text/plain": [
       "<pandas.io.formats.style.Styler at 0x250b0c97970>"
      ]
     },
     "execution_count": 21,
     "metadata": {},
     "output_type": "execute_result"
    }
   ],
   "source": [
    "pd.crosstab(df.Initial,df.Sex).T.style.background_gradient() #Checking the Initials with the Sex"
   ]
  },
  {
   "cell_type": "code",
   "execution_count": 22,
   "id": "provincial-confidentiality",
   "metadata": {},
   "outputs": [],
   "source": [
    "df.loc[(df.Age.isnull())&(df.Initial=='Mr'),'Age']=33\n",
    "df.loc[(df.Age.isnull())&(df.Initial=='Mrs'),'Age']=36\n",
    "df.loc[(df.Age.isnull())&(df.Initial=='Master'),'Age']=5\n",
    "df.loc[(df.Age.isnull())&(df.Initial=='Miss'),'Age']=22\n",
    "df.loc[(df.Age.isnull())&(df.Initial=='Other'),'Age']=46"
   ]
  },
  {
   "cell_type": "code",
   "execution_count": 23,
   "id": "perceived-glucose",
   "metadata": {},
   "outputs": [
    {
     "data": {
      "text/plain": [
       "True"
      ]
     },
     "execution_count": 23,
     "metadata": {},
     "output_type": "execute_result"
    }
   ],
   "source": [
    "df.Age.isnull().any()"
   ]
  },
  {
   "cell_type": "code",
   "execution_count": 24,
   "id": "married-expression",
   "metadata": {
    "scrolled": false
   },
   "outputs": [
    {
     "data": {
      "text/html": [
       "<div>\n",
       "<style scoped>\n",
       "    .dataframe tbody tr th:only-of-type {\n",
       "        vertical-align: middle;\n",
       "    }\n",
       "\n",
       "    .dataframe tbody tr th {\n",
       "        vertical-align: top;\n",
       "    }\n",
       "\n",
       "    .dataframe thead th {\n",
       "        text-align: right;\n",
       "    }\n",
       "</style>\n",
       "<table border=\"1\" class=\"dataframe\">\n",
       "  <thead>\n",
       "    <tr style=\"text-align: right;\">\n",
       "      <th></th>\n",
       "      <th>PassengerId</th>\n",
       "      <th>Survived</th>\n",
       "      <th>Pclass</th>\n",
       "      <th>Name</th>\n",
       "      <th>Sex</th>\n",
       "      <th>Age</th>\n",
       "      <th>SibSp</th>\n",
       "      <th>Parch</th>\n",
       "      <th>Ticket</th>\n",
       "      <th>Fare</th>\n",
       "      <th>Cabin</th>\n",
       "      <th>Embarked</th>\n",
       "      <th>Initial</th>\n",
       "      <th>Age_band</th>\n",
       "    </tr>\n",
       "  </thead>\n",
       "  <tbody>\n",
       "    <tr>\n",
       "      <th>0</th>\n",
       "      <td>1</td>\n",
       "      <td>0</td>\n",
       "      <td>3</td>\n",
       "      <td>Braund, Mr. Owen Harris</td>\n",
       "      <td>1</td>\n",
       "      <td>22.0</td>\n",
       "      <td>1</td>\n",
       "      <td>0</td>\n",
       "      <td>523</td>\n",
       "      <td>7.2500</td>\n",
       "      <td>NaN</td>\n",
       "      <td>2</td>\n",
       "      <td>Mr</td>\n",
       "      <td>1</td>\n",
       "    </tr>\n",
       "    <tr>\n",
       "      <th>1</th>\n",
       "      <td>2</td>\n",
       "      <td>1</td>\n",
       "      <td>1</td>\n",
       "      <td>Cumings, Mrs. John Bradley (Florence Briggs Th...</td>\n",
       "      <td>0</td>\n",
       "      <td>38.0</td>\n",
       "      <td>1</td>\n",
       "      <td>0</td>\n",
       "      <td>596</td>\n",
       "      <td>71.2833</td>\n",
       "      <td>C85</td>\n",
       "      <td>0</td>\n",
       "      <td>Mrs</td>\n",
       "      <td>2</td>\n",
       "    </tr>\n",
       "    <tr>\n",
       "      <th>2</th>\n",
       "      <td>3</td>\n",
       "      <td>1</td>\n",
       "      <td>3</td>\n",
       "      <td>Heikkinen, Miss. Laina</td>\n",
       "      <td>0</td>\n",
       "      <td>26.0</td>\n",
       "      <td>0</td>\n",
       "      <td>0</td>\n",
       "      <td>669</td>\n",
       "      <td>7.9250</td>\n",
       "      <td>NaN</td>\n",
       "      <td>2</td>\n",
       "      <td>Miss</td>\n",
       "      <td>1</td>\n",
       "    </tr>\n",
       "    <tr>\n",
       "      <th>3</th>\n",
       "      <td>4</td>\n",
       "      <td>1</td>\n",
       "      <td>1</td>\n",
       "      <td>Futrelle, Mrs. Jacques Heath (Lily May Peel)</td>\n",
       "      <td>0</td>\n",
       "      <td>35.0</td>\n",
       "      <td>1</td>\n",
       "      <td>0</td>\n",
       "      <td>49</td>\n",
       "      <td>53.1000</td>\n",
       "      <td>C123</td>\n",
       "      <td>2</td>\n",
       "      <td>Mrs</td>\n",
       "      <td>2</td>\n",
       "    </tr>\n",
       "    <tr>\n",
       "      <th>4</th>\n",
       "      <td>5</td>\n",
       "      <td>0</td>\n",
       "      <td>3</td>\n",
       "      <td>Allen, Mr. William Henry</td>\n",
       "      <td>1</td>\n",
       "      <td>35.0</td>\n",
       "      <td>0</td>\n",
       "      <td>0</td>\n",
       "      <td>472</td>\n",
       "      <td>8.0500</td>\n",
       "      <td>NaN</td>\n",
       "      <td>2</td>\n",
       "      <td>Mr</td>\n",
       "      <td>2</td>\n",
       "    </tr>\n",
       "  </tbody>\n",
       "</table>\n",
       "</div>"
      ],
      "text/plain": [
       "   PassengerId  Survived  Pclass  \\\n",
       "0            1         0       3   \n",
       "1            2         1       1   \n",
       "2            3         1       3   \n",
       "3            4         1       1   \n",
       "4            5         0       3   \n",
       "\n",
       "                                                Name  Sex   Age  SibSp  Parch  \\\n",
       "0                            Braund, Mr. Owen Harris    1  22.0      1      0   \n",
       "1  Cumings, Mrs. John Bradley (Florence Briggs Th...    0  38.0      1      0   \n",
       "2                             Heikkinen, Miss. Laina    0  26.0      0      0   \n",
       "3       Futrelle, Mrs. Jacques Heath (Lily May Peel)    0  35.0      1      0   \n",
       "4                           Allen, Mr. William Henry    1  35.0      0      0   \n",
       "\n",
       "   Ticket     Fare Cabin  Embarked Initial  Age_band  \n",
       "0     523   7.2500   NaN         2      Mr         1  \n",
       "1     596  71.2833   C85         0     Mrs         2  \n",
       "2     669   7.9250   NaN         2    Miss         1  \n",
       "3      49  53.1000  C123         2     Mrs         2  \n",
       "4     472   8.0500   NaN         2      Mr         2  "
      ]
     },
     "execution_count": 24,
     "metadata": {},
     "output_type": "execute_result"
    }
   ],
   "source": [
    "df['Age_band']=0\n",
    "df.loc[df['Age']<=16,'Age_band']=0\n",
    "df.loc[(df['Age']>16)&(df['Age']<=32),'Age_band']=1\n",
    "df.loc[(df['Age']>32)&(df['Age']<=48),'Age_band']=2\n",
    "df.loc[(df['Age']>48)&(df['Age']<=64),'Age_band']=3\n",
    "df.loc[df['Age']>64,'Age_band']=4\n",
    "df.head()"
   ]
  },
  {
   "cell_type": "code",
   "execution_count": 25,
   "id": "furnished-consistency",
   "metadata": {
    "scrolled": true
   },
   "outputs": [
    {
     "data": {
      "text/plain": [
       "1    382\n",
       "2    324\n",
       "0    105\n",
       "3     69\n",
       "4     11\n",
       "Name: Age_band, dtype: int64"
      ]
     },
     "execution_count": 25,
     "metadata": {},
     "output_type": "execute_result"
    }
   ],
   "source": [
    "df.Age_band.value_counts()"
   ]
  },
  {
   "cell_type": "code",
   "execution_count": 26,
   "id": "hundred-camel",
   "metadata": {},
   "outputs": [
    {
     "data": {
      "text/html": [
       "<div>\n",
       "<style scoped>\n",
       "    .dataframe tbody tr th:only-of-type {\n",
       "        vertical-align: middle;\n",
       "    }\n",
       "\n",
       "    .dataframe tbody tr th {\n",
       "        vertical-align: top;\n",
       "    }\n",
       "\n",
       "    .dataframe thead th {\n",
       "        text-align: right;\n",
       "    }\n",
       "</style>\n",
       "<table border=\"1\" class=\"dataframe\">\n",
       "  <thead>\n",
       "    <tr style=\"text-align: right;\">\n",
       "      <th></th>\n",
       "      <th>Survived</th>\n",
       "    </tr>\n",
       "    <tr>\n",
       "      <th>Fare_Range</th>\n",
       "      <th></th>\n",
       "    </tr>\n",
       "  </thead>\n",
       "  <tbody>\n",
       "    <tr>\n",
       "      <th>(-0.001, 7.91]</th>\n",
       "      <td>0.197309</td>\n",
       "    </tr>\n",
       "    <tr>\n",
       "      <th>(7.91, 14.454]</th>\n",
       "      <td>0.303571</td>\n",
       "    </tr>\n",
       "    <tr>\n",
       "      <th>(14.454, 31.0]</th>\n",
       "      <td>0.454955</td>\n",
       "    </tr>\n",
       "    <tr>\n",
       "      <th>(31.0, 512.329]</th>\n",
       "      <td>0.581081</td>\n",
       "    </tr>\n",
       "  </tbody>\n",
       "</table>\n",
       "</div>"
      ],
      "text/plain": [
       "                 Survived\n",
       "Fare_Range               \n",
       "(-0.001, 7.91]   0.197309\n",
       "(7.91, 14.454]   0.303571\n",
       "(14.454, 31.0]   0.454955\n",
       "(31.0, 512.329]  0.581081"
      ]
     },
     "execution_count": 26,
     "metadata": {},
     "output_type": "execute_result"
    }
   ],
   "source": [
    "df['Fare_Range']=pd.qcut(df['Fare'],4)\n",
    "df.groupby(['Fare_Range'])['Survived'].mean().to_frame()"
   ]
  },
  {
   "cell_type": "code",
   "execution_count": 27,
   "id": "earlier-savannah",
   "metadata": {},
   "outputs": [
    {
     "ename": "SyntaxError",
     "evalue": "closing parenthesis ')' does not match opening parenthesis '[' (<ipython-input-27-153d2ba5f39d>, line 3)",
     "output_type": "error",
     "traceback": [
      "\u001b[1;36m  File \u001b[1;32m\"<ipython-input-27-153d2ba5f39d>\"\u001b[1;36m, line \u001b[1;32m3\u001b[0m\n\u001b[1;33m    df.loc[df['Fare']>7.91)&(df['Fare']>=14.4),'fare_r']=1\u001b[0m\n\u001b[1;37m                          ^\u001b[0m\n\u001b[1;31mSyntaxError\u001b[0m\u001b[1;31m:\u001b[0m closing parenthesis ')' does not match opening parenthesis '['\n"
     ]
    }
   ],
   "source": [
    "df['fare_r']=0\n",
    "df.loc[df['Fare']<=7.91,'fare_r']=0\n",
    "df.loc[df['Fare']>7.91)&(df['Fare']>=14.4),'fare_r']=1\n",
    "df.loc[df['Fare']>14.4)&(df['Fare']>=31),'fare_r']=2\n",
    "df.loc[df['Fare']>31)&(df['Fare']>=513),'fare_r']=3"
   ]
  },
  {
   "cell_type": "code",
   "execution_count": 28,
   "id": "hindu-birthday",
   "metadata": {},
   "outputs": [],
   "source": [
    "df['Fare_cat']=0\n",
    "df.loc[df['Fare']<=7.91,'Fare_cat']=0\n",
    "df.loc[(df['Fare']>7.91)&(df['Fare']<=14.454),'Fare_cat']=1\n",
    "df.loc[(df['Fare']>14.454)&(df['Fare']<=31),'Fare_cat']=2\n",
    "df.loc[(df['Fare']>31)&(df['Fare']<=513),'Fare_cat']=3"
   ]
  },
  {
   "cell_type": "code",
   "execution_count": 29,
   "id": "multiple-steering",
   "metadata": {
    "scrolled": true
   },
   "outputs": [
    {
     "name": "stdout",
     "output_type": "stream",
     "text": [
      "<class 'pandas.core.frame.DataFrame'>\n",
      "RangeIndex: 891 entries, 0 to 890\n",
      "Data columns (total 16 columns):\n",
      " #   Column       Non-Null Count  Dtype   \n",
      "---  ------       --------------  -----   \n",
      " 0   PassengerId  891 non-null    int64   \n",
      " 1   Survived     891 non-null    int64   \n",
      " 2   Pclass       891 non-null    int64   \n",
      " 3   Name         891 non-null    object  \n",
      " 4   Sex          891 non-null    int32   \n",
      " 5   Age          890 non-null    float64 \n",
      " 6   SibSp        891 non-null    int64   \n",
      " 7   Parch        891 non-null    int64   \n",
      " 8   Ticket       891 non-null    int32   \n",
      " 9   Fare         891 non-null    float64 \n",
      " 10  Cabin        204 non-null    object  \n",
      " 11  Embarked     891 non-null    int32   \n",
      " 12  Initial      891 non-null    object  \n",
      " 13  Age_band     891 non-null    int64   \n",
      " 14  Fare_Range   891 non-null    category\n",
      " 15  Fare_cat     891 non-null    int64   \n",
      "dtypes: category(1), float64(2), int32(3), int64(7), object(3)\n",
      "memory usage: 95.2+ KB\n"
     ]
    }
   ],
   "source": [
    "df.info()"
   ]
  },
  {
   "cell_type": "markdown",
   "id": "current-appointment",
   "metadata": {},
   "source": [
    "# Removing unwanted columns "
   ]
  },
  {
   "cell_type": "code",
   "execution_count": null,
   "id": "phantom-stranger",
   "metadata": {},
   "outputs": [],
   "source": [
    "df=df.drop(['PassengerId','Name','Age','Fare','Initial','Ticket','Fare_Range','Cabin'],axis=1)\n"
   ]
  },
  {
   "cell_type": "code",
   "execution_count": 36,
   "id": "paperback-canon",
   "metadata": {
    "scrolled": false
   },
   "outputs": [
    {
     "data": {
      "text/plain": [
       "B96 B98        4\n",
       "G6             4\n",
       "C23 C25 C27    4\n",
       "F33            3\n",
       "E101           3\n",
       "              ..\n",
       "C148           1\n",
       "D19            1\n",
       "E12            1\n",
       "C50            1\n",
       "A7             1\n",
       "Name: Cabin, Length: 147, dtype: int64"
      ]
     },
     "execution_count": 36,
     "metadata": {},
     "output_type": "execute_result"
    }
   ],
   "source": [
    "df.Cabin.value_counts()"
   ]
  },
  {
   "cell_type": "code",
   "execution_count": 38,
   "id": "several-being",
   "metadata": {
    "scrolled": true
   },
   "outputs": [
    {
     "data": {
      "text/html": [
       "<div>\n",
       "<style scoped>\n",
       "    .dataframe tbody tr th:only-of-type {\n",
       "        vertical-align: middle;\n",
       "    }\n",
       "\n",
       "    .dataframe tbody tr th {\n",
       "        vertical-align: top;\n",
       "    }\n",
       "\n",
       "    .dataframe thead th {\n",
       "        text-align: right;\n",
       "    }\n",
       "</style>\n",
       "<table border=\"1\" class=\"dataframe\">\n",
       "  <thead>\n",
       "    <tr style=\"text-align: right;\">\n",
       "      <th></th>\n",
       "      <th>Survived</th>\n",
       "      <th>Pclass</th>\n",
       "      <th>Sex</th>\n",
       "      <th>SibSp</th>\n",
       "      <th>Parch</th>\n",
       "      <th>Embarked</th>\n",
       "      <th>Age_band</th>\n",
       "      <th>Fare_cat</th>\n",
       "    </tr>\n",
       "  </thead>\n",
       "  <tbody>\n",
       "    <tr>\n",
       "      <th>0</th>\n",
       "      <td>0</td>\n",
       "      <td>3</td>\n",
       "      <td>1</td>\n",
       "      <td>1</td>\n",
       "      <td>0</td>\n",
       "      <td>2</td>\n",
       "      <td>1</td>\n",
       "      <td>0</td>\n",
       "    </tr>\n",
       "    <tr>\n",
       "      <th>1</th>\n",
       "      <td>1</td>\n",
       "      <td>1</td>\n",
       "      <td>0</td>\n",
       "      <td>1</td>\n",
       "      <td>0</td>\n",
       "      <td>0</td>\n",
       "      <td>2</td>\n",
       "      <td>3</td>\n",
       "    </tr>\n",
       "    <tr>\n",
       "      <th>2</th>\n",
       "      <td>1</td>\n",
       "      <td>3</td>\n",
       "      <td>0</td>\n",
       "      <td>0</td>\n",
       "      <td>0</td>\n",
       "      <td>2</td>\n",
       "      <td>1</td>\n",
       "      <td>1</td>\n",
       "    </tr>\n",
       "  </tbody>\n",
       "</table>\n",
       "</div>"
      ],
      "text/plain": [
       "   Survived  Pclass  Sex  SibSp  Parch  Embarked  Age_band  Fare_cat\n",
       "0         0       3    1      1      0         2         1         0\n",
       "1         1       1    0      1      0         0         2         3\n",
       "2         1       3    0      0      0         2         1         1"
      ]
     },
     "execution_count": 38,
     "metadata": {},
     "output_type": "execute_result"
    }
   ],
   "source": [
    "df.head(3)"
   ]
  },
  {
   "cell_type": "code",
   "execution_count": 39,
   "id": "boolean-credit",
   "metadata": {
    "scrolled": true
   },
   "outputs": [
    {
     "name": "stdout",
     "output_type": "stream",
     "text": [
      "<class 'pandas.core.frame.DataFrame'>\n",
      "RangeIndex: 891 entries, 0 to 890\n",
      "Data columns (total 8 columns):\n",
      " #   Column    Non-Null Count  Dtype\n",
      "---  ------    --------------  -----\n",
      " 0   Survived  891 non-null    int64\n",
      " 1   Pclass    891 non-null    int64\n",
      " 2   Sex       891 non-null    int32\n",
      " 3   SibSp     891 non-null    int64\n",
      " 4   Parch     891 non-null    int64\n",
      " 5   Embarked  891 non-null    int32\n",
      " 6   Age_band  891 non-null    int64\n",
      " 7   Fare_cat  891 non-null    int64\n",
      "dtypes: int32(2), int64(6)\n",
      "memory usage: 48.9 KB\n"
     ]
    }
   ],
   "source": [
    "df.info()"
   ]
  },
  {
   "cell_type": "code",
   "execution_count": 48,
   "id": "behind-impact",
   "metadata": {},
   "outputs": [
    {
     "data": {
      "text/plain": [
       "0    608\n",
       "1    209\n",
       "2     28\n",
       "4     18\n",
       "3     16\n",
       "8      7\n",
       "5      5\n",
       "Name: SibSp, dtype: int64"
      ]
     },
     "execution_count": 48,
     "metadata": {},
     "output_type": "execute_result"
    }
   ],
   "source": [
    "df.SibSp.value_counts()"
   ]
  },
  {
   "cell_type": "code",
   "execution_count": 40,
   "id": "chicken-dinner",
   "metadata": {},
   "outputs": [
    {
     "data": {
      "text/plain": [
       "<AxesSubplot:>"
      ]
     },
     "execution_count": 40,
     "metadata": {},
     "output_type": "execute_result"
    },
    {
     "data": {
      "image/png": "[encoded data removed]",
      "text/plain": [
       "<Figure size 720x432 with 2 Axes>"
      ]
     },
     "metadata": {
      "needs_background": "light"
     },
     "output_type": "display_data"
    }
   ],
   "source": [
    "plt.figure(figsize=(10,6))\n",
    "sns.heatmap(df.corr(),annot=True)"
   ]
  },
  {
   "cell_type": "code",
   "execution_count": 41,
   "id": "placed-omaha",
   "metadata": {},
   "outputs": [
    {
     "data": {
      "text/plain": [
       "<AxesSubplot:>"
      ]
     },
     "execution_count": 41,
     "metadata": {},
     "output_type": "execute_result"
    },
    {
     "data": {
      "image/png": "[encoded data removed]",
      "text/plain": [
       "<Figure size 432x288 with 2 Axes>"
      ]
     },
     "metadata": {
      "needs_background": "light"
     },
     "output_type": "display_data"
    }
   ],
   "source": [
    "sns.heatmap(df.corr()[['Survived']].sort_values(by='Survived',ascending= False ), vmin=-1,vmax=1,annot= True ,cmap='BrBG') "
   ]
  },
  {
   "cell_type": "code",
   "execution_count": 44,
   "id": "metric-heavy",
   "metadata": {
    "scrolled": true
   },
   "outputs": [
    {
     "data": {
      "text/html": [
       "<div>\n",
       "<style scoped>\n",
       "    .dataframe tbody tr th:only-of-type {\n",
       "        vertical-align: middle;\n",
       "    }\n",
       "\n",
       "    .dataframe tbody tr th {\n",
       "        vertical-align: top;\n",
       "    }\n",
       "\n",
       "    .dataframe thead th {\n",
       "        text-align: right;\n",
       "    }\n",
       "</style>\n",
       "<table border=\"1\" class=\"dataframe\">\n",
       "  <thead>\n",
       "    <tr style=\"text-align: right;\">\n",
       "      <th>Pclass</th>\n",
       "      <th>1</th>\n",
       "      <th>2</th>\n",
       "      <th>3</th>\n",
       "    </tr>\n",
       "    <tr>\n",
       "      <th>Parch</th>\n",
       "      <th></th>\n",
       "      <th></th>\n",
       "      <th></th>\n",
       "    </tr>\n",
       "  </thead>\n",
       "  <tbody>\n",
       "    <tr>\n",
       "      <th>0</th>\n",
       "      <td>163</td>\n",
       "      <td>134</td>\n",
       "      <td>381</td>\n",
       "    </tr>\n",
       "    <tr>\n",
       "      <th>1</th>\n",
       "      <td>31</td>\n",
       "      <td>32</td>\n",
       "      <td>55</td>\n",
       "    </tr>\n",
       "    <tr>\n",
       "      <th>2</th>\n",
       "      <td>21</td>\n",
       "      <td>16</td>\n",
       "      <td>43</td>\n",
       "    </tr>\n",
       "    <tr>\n",
       "      <th>3</th>\n",
       "      <td>0</td>\n",
       "      <td>2</td>\n",
       "      <td>3</td>\n",
       "    </tr>\n",
       "    <tr>\n",
       "      <th>4</th>\n",
       "      <td>1</td>\n",
       "      <td>0</td>\n",
       "      <td>3</td>\n",
       "    </tr>\n",
       "    <tr>\n",
       "      <th>5</th>\n",
       "      <td>0</td>\n",
       "      <td>0</td>\n",
       "      <td>5</td>\n",
       "    </tr>\n",
       "    <tr>\n",
       "      <th>6</th>\n",
       "      <td>0</td>\n",
       "      <td>0</td>\n",
       "      <td>1</td>\n",
       "    </tr>\n",
       "  </tbody>\n",
       "</table>\n",
       "</div>"
      ],
      "text/plain": [
       "Pclass    1    2    3\n",
       "Parch                \n",
       "0       163  134  381\n",
       "1        31   32   55\n",
       "2        21   16   43\n",
       "3         0    2    3\n",
       "4         1    0    3\n",
       "5         0    0    5\n",
       "6         0    0    1"
      ]
     },
     "execution_count": 44,
     "metadata": {},
     "output_type": "execute_result"
    }
   ],
   "source": [
    "pd.crosstab(df.Parch,df.Pclass)\n"
   ]
  },
  {
   "cell_type": "code",
   "execution_count": 65,
   "id": "massive-spelling",
   "metadata": {
    "scrolled": true
   },
   "outputs": [
    {
     "name": "stdout",
     "output_type": "stream",
     "text": [
      "<class 'pandas.core.frame.DataFrame'>\n",
      "RangeIndex: 891 entries, 0 to 890\n",
      "Data columns (total 8 columns):\n",
      " #   Column    Non-Null Count  Dtype\n",
      "---  ------    --------------  -----\n",
      " 0   Survived  891 non-null    int64\n",
      " 1   Pclass    891 non-null    int64\n",
      " 2   Sex       891 non-null    int32\n",
      " 3   SibSp     891 non-null    int64\n",
      " 4   Parch     891 non-null    int64\n",
      " 5   Embarked  891 non-null    int32\n",
      " 6   Age_band  891 non-null    int64\n",
      " 7   Fare_cat  891 non-null    int64\n",
      "dtypes: int32(2), int64(6)\n",
      "memory usage: 48.9 KB\n"
     ]
    }
   ],
   "source": [
    "df.info()"
   ]
  },
  {
   "cell_type": "code",
   "execution_count": 66,
   "id": "corrected-beverage",
   "metadata": {},
   "outputs": [
    {
     "data": {
      "text/plain": [
       "8"
      ]
     },
     "execution_count": 66,
     "metadata": {},
     "output_type": "execute_result"
    }
   ],
   "source": [
    "col=df.columns\n",
    "len(col)"
   ]
  },
  {
   "cell_type": "code",
   "execution_count": 67,
   "id": "adolescent-bracket",
   "metadata": {
    "scrolled": true
   },
   "outputs": [
    {
     "data": {
      "image/png": "[encoded data removed]",
      "text/plain": [
       "<Figure size 864x864 with 8 Axes>"
      ]
     },
     "metadata": {
      "needs_background": "light"
     },
     "output_type": "display_data"
    }
   ],
   "source": [
    "plt.figure(figsize=(12,12))\n",
    "for i in range(len(col)):\n",
    "    plt.subplot(5,5,i+1)\n",
    "    sns.countplot(x=col[i],data=df)\n",
    "    plt.tight_layout()"
   ]
  },
  {
   "cell_type": "code",
   "execution_count": 68,
   "id": "blank-collar",
   "metadata": {
    "scrolled": true
   },
   "outputs": [
    {
     "data": {
      "image/png": "[encoded data removed]",
      "text/plain": [
       "<Figure size 1008x1008 with 8 Axes>"
      ]
     },
     "metadata": {
      "needs_background": "light"
     },
     "output_type": "display_data"
    }
   ],
   "source": [
    "\n",
    "# countplot for each feature with repect to target variable\n",
    "plt.figure(figsize=(14,14))\n",
    "for i in range(len(col)):\n",
    "    plt.subplot(5,5,i+1)\n",
    "    sns.countplot(x=col[i],hue='Survived',data=df)\n",
    "    plt.tight_layout()\n"
   ]
  },
  {
   "cell_type": "markdown",
   "id": "coated-transition",
   "metadata": {},
   "source": [
    "      OBSERVATION \n",
    "- PCLASS  - 3 MOSTLY UNABLE TO SURVIVE         \n",
    "- SEX  - MOSTLY WOMENS ARE SURVIVED      \n",
    "- FARE CAT -   RICH PEOPLE SURVIVED MOST \n",
    "- AGE - YOUNG PEOPLE SURVIVED MOST "
   ]
  },
  {
   "cell_type": "markdown",
   "id": "light-chorus",
   "metadata": {},
   "source": [
    "# Creating train_test_split"
   ]
  },
  {
   "cell_type": "code",
   "execution_count": 51,
   "id": "handled-episode",
   "metadata": {},
   "outputs": [],
   "source": [
    "x=df.drop(['Survived'],axis=1)\n",
    "y=df[\"Survived\"]"
   ]
  },
  {
   "cell_type": "code",
   "execution_count": 117,
   "id": "reverse-saturn",
   "metadata": {},
   "outputs": [],
   "source": [
    "#importing all the required ML packages\n",
    "from sklearn.linear_model import LogisticRegression #logistic regression\n",
    "from sklearn.ensemble import RandomForestClassifier #Random Forest\n",
    "from sklearn.neighbors import KNeighborsClassifier #KNN\n",
    "from sklearn.naive_bayes import GaussianNB #Naive bayes\n",
    "from sklearn.tree import DecisionTreeClassifier #Decision Tree\n",
    "from sklearn.svm import SVC\n",
    "\n",
    "\n",
    "from sklearn.model_selection import train_test_split #training and testing data split\n",
    "\n",
    "from sklearn import metrics \n",
    "#accuracy measure\n",
    "from sklearn.metrics import confusion_matrix , accuracy_score , classification_report,mean_squared_error\n",
    "from sklearn.model_selection import train_test_split,StratifiedKFold, GridSearchCV\n"
   ]
  },
  {
   "cell_type": "code",
   "execution_count": 61,
   "id": "color-right",
   "metadata": {},
   "outputs": [],
   "source": [
    "x_train,x_test,y_train,y_test= train_test_split(x,y)"
   ]
  },
  {
   "cell_type": "code",
   "execution_count": 62,
   "id": "greater-metropolitan",
   "metadata": {},
   "outputs": [
    {
     "data": {
      "text/plain": [
       "LogisticRegression()"
      ]
     },
     "execution_count": 62,
     "metadata": {},
     "output_type": "execute_result"
    }
   ],
   "source": [
    "lr =LogisticRegression()\n",
    "lr.fit(x_train,y_train)"
   ]
  },
  {
   "cell_type": "code",
   "execution_count": 75,
   "id": "motivated-panel",
   "metadata": {
    "scrolled": true
   },
   "outputs": [
    {
     "name": "stdout",
     "output_type": "stream",
     "text": [
      "[[110  12]\n",
      " [ 35  66]]\n",
      "0.7892376681614349\n",
      "classification report \n",
      "               precision    recall  f1-score   support\n",
      "\n",
      "           0       0.76      0.90      0.82       122\n",
      "           1       0.85      0.65      0.74       101\n",
      "\n",
      "    accuracy                           0.79       223\n",
      "   macro avg       0.80      0.78      0.78       223\n",
      "weighted avg       0.80      0.79      0.78       223\n",
      "\n"
     ]
    }
   ],
   "source": [
    "y_pred=lr.predict(x_test)\n",
    "print(confusion_matrix(y_test,y_pred))\n",
    "print( accuracy_score(y_test,y_pred))\n",
    "print('classification report \\n',classification_report(y_test,y_pred))"
   ]
  },
  {
   "cell_type": "code",
   "execution_count": 76,
   "id": "coral-violin",
   "metadata": {},
   "outputs": [
    {
     "name": "stdout",
     "output_type": "stream",
     "text": [
      "accuracy score  0.776536312849162\n",
      "accuracy score  0.8033707865168539\n",
      "accuracy score  0.7865168539325843\n",
      "accuracy score  0.7640449438202247\n",
      "accuracy score  0.8089887640449438\n",
      "mean accuracy score 0.7878915322327538\n"
     ]
    }
   ],
   "source": [
    "kfold=StratifiedKFold(n_splits=5) # to get a balanced split\n",
    "accuracy=[]\n",
    "for train_index,test_index in kfold.split(x,y):\n",
    "    #print(\"TRAIN:\", train_index, \"TEST:\", test_index)\n",
    "    xtrain, xtest = x.iloc[train_index], x.iloc[test_index]\n",
    "    ytrain, ytest = y.iloc[train_index], y.iloc[test_index]\n",
    "    lr=LogisticRegression()\n",
    "    lr.fit(xtrain,ytrain)\n",
    "    y_pred=lr.predict(xtest)\n",
    "    print('accuracy score ',accuracy_score(ytest,y_pred))\n",
    "    accuracy.append(accuracy_score(ytest,y_pred))\n",
    "print('mean accuracy score',sum(accuracy)/len(accuracy))"
   ]
  },
  {
   "cell_type": "code",
   "execution_count": 77,
   "id": "logical-sterling",
   "metadata": {},
   "outputs": [
    {
     "name": "stdout",
     "output_type": "stream",
     "text": [
      "accuracy score  0.7713004484304933\n",
      "confusion matrix \n",
      " [[111  11]\n",
      " [ 40  61]]\n",
      "classification report \n",
      "               precision    recall  f1-score   support\n",
      "\n",
      "           0       0.74      0.91      0.81       122\n",
      "           1       0.85      0.60      0.71       101\n",
      "\n",
      "    accuracy                           0.77       223\n",
      "   macro avg       0.79      0.76      0.76       223\n",
      "weighted avg       0.79      0.77      0.76       223\n",
      "\n"
     ]
    }
   ],
   "source": [
    "\n",
    "dt=DecisionTreeClassifier()\n",
    "dt.fit(x_train,y_train)\n",
    "y_pred=dt.predict(x_test)\n",
    "print('accuracy score ',accuracy_score(y_test,y_pred))\n",
    "print('confusion matrix \\n',confusion_matrix(y_test,y_pred))\n",
    "print('classification report \\n',classification_report(y_test,y_pred))"
   ]
  },
  {
   "cell_type": "code",
   "execution_count": 78,
   "id": "possible-crystal",
   "metadata": {},
   "outputs": [
    {
     "name": "stdout",
     "output_type": "stream",
     "text": [
      "accuracy score  0.7653631284916201\n",
      "confusion matrix\n",
      " [[91 19]\n",
      " [23 46]]\n",
      "accuracy score  0.7808988764044944\n",
      "confusion matrix\n",
      " [[90 20]\n",
      " [19 49]]\n",
      "accuracy score  0.7808988764044944\n",
      "confusion matrix\n",
      " [[98 12]\n",
      " [27 41]]\n",
      "accuracy score  0.7808988764044944\n",
      "confusion matrix\n",
      " [[99 11]\n",
      " [28 40]]\n",
      "accuracy score  0.8258426966292135\n",
      "confusion matrix\n",
      " [[98 11]\n",
      " [20 49]]\n",
      "mean accuracy score 0.7867804908668634\n"
     ]
    }
   ],
   "source": [
    "kfold=StratifiedKFold(n_splits=5) # to get a balanced split\n",
    "accuracy=[]\n",
    "for train_index,test_index in kfold.split(x,y):\n",
    "    #print(\"TRAIN:\", train_index, \"TEST:\", test_index)\n",
    "    xtrain, xtest = x.iloc[train_index], x.iloc[test_index]\n",
    "    ytrain, ytest = y.iloc[train_index], y.iloc[test_index]\n",
    "    dt.fit(xtrain,ytrain)\n",
    "    y_pred=dt.predict(xtest)\n",
    "    print('accuracy score ',accuracy_score(ytest,y_pred))\n",
    "    accuracy.append(accuracy_score(ytest,y_pred))\n",
    "    print('confusion matrix\\n',confusion_matrix(ytest,y_pred))\n",
    "print('mean accuracy score',sum(accuracy)/len(accuracy))"
   ]
  },
  {
   "cell_type": "code",
   "execution_count": 79,
   "id": "leading-publication",
   "metadata": {},
   "outputs": [
    {
     "name": "stdout",
     "output_type": "stream",
     "text": [
      "accuracy score  0.7802690582959642\n",
      "confusion matrix \n",
      " [[106  16]\n",
      " [ 33  68]]\n",
      "classification report \n",
      "               precision    recall  f1-score   support\n",
      "\n",
      "           0       0.76      0.87      0.81       122\n",
      "           1       0.81      0.67      0.74       101\n",
      "\n",
      "    accuracy                           0.78       223\n",
      "   macro avg       0.79      0.77      0.77       223\n",
      "weighted avg       0.78      0.78      0.78       223\n",
      "\n"
     ]
    }
   ],
   "source": [
    "rf=RandomForestClassifier()\n",
    "rf.fit(x_train,y_train)\n",
    "y_pred=rf.predict(x_test)\n",
    "print('accuracy score ',accuracy_score(y_test,y_pred))\n",
    "print('confusion matrix \\n',confusion_matrix(y_test,y_pred))\n",
    "print('classification report \\n',classification_report(y_test,y_pred))"
   ]
  },
  {
   "cell_type": "code",
   "execution_count": 80,
   "id": "stupid-nurse",
   "metadata": {},
   "outputs": [
    {
     "name": "stdout",
     "output_type": "stream",
     "text": [
      "accuracy score  0.7932960893854749\n",
      "confusion matrix\n",
      " [[93 17]\n",
      " [20 49]]\n",
      "accuracy score  0.7752808988764045\n",
      "confusion matrix\n",
      " [[89 21]\n",
      " [19 49]]\n",
      "accuracy score  0.8089887640449438\n",
      "confusion matrix\n",
      " [[99 11]\n",
      " [23 45]]\n",
      "accuracy score  0.7865168539325843\n",
      "confusion matrix\n",
      " [[98 12]\n",
      " [26 42]]\n",
      "accuracy score  0.8370786516853933\n",
      "confusion matrix\n",
      " [[95 14]\n",
      " [15 54]]\n",
      "mean accuracy score 0.8002322515849603\n"
     ]
    }
   ],
   "source": [
    "kfold=StratifiedKFold(n_splits=5) # to get a balanced split\n",
    "accuracy=[]\n",
    "for train_index,test_index in kfold.split(x,y):\n",
    "    #print(\"TRAIN:\", train_index, \"TEST:\", test_index)\n",
    "    xtrain, xtest = x.iloc[train_index], x.iloc[test_index]\n",
    "    ytrain, ytest = y.iloc[train_index], y.iloc[test_index]\n",
    "    rf.fit(xtrain,ytrain)\n",
    "    y_pred=rf.predict(xtest)\n",
    "    print('accuracy score ',accuracy_score(ytest,y_pred))\n",
    "    accuracy.append(accuracy_score(ytest,y_pred))\n",
    "    print('confusion matrix\\n',confusion_matrix(ytest,y_pred))\n",
    "print('mean accuracy score',sum(accuracy)/len(accuracy))"
   ]
  },
  {
   "cell_type": "code",
   "execution_count": 81,
   "id": "after-pharmacy",
   "metadata": {},
   "outputs": [
    {
     "name": "stdout",
     "output_type": "stream",
     "text": [
      "accuracy score  0.7713004484304933\n",
      "confusion matrix \n",
      " [[110  12]\n",
      " [ 39  62]]\n",
      "classification report \n",
      "               precision    recall  f1-score   support\n",
      "\n",
      "           0       0.74      0.90      0.81       122\n",
      "           1       0.84      0.61      0.71       101\n",
      "\n",
      "    accuracy                           0.77       223\n",
      "   macro avg       0.79      0.76      0.76       223\n",
      "weighted avg       0.78      0.77      0.77       223\n",
      "\n"
     ]
    }
   ],
   "source": [
    "knn=KNeighborsClassifier()\n",
    "knn.fit(x_train,y_train)\n",
    "y_pred=knn.predict(x_test)\n",
    "print('accuracy score ',accuracy_score(y_test,y_pred))\n",
    "print('confusion matrix \\n',confusion_matrix(y_test,y_pred))\n",
    "print('classification report \\n',classification_report(y_test,y_pred))"
   ]
  },
  {
   "cell_type": "code",
   "execution_count": 82,
   "id": "analyzed-frame",
   "metadata": {},
   "outputs": [
    {
     "name": "stdout",
     "output_type": "stream",
     "text": [
      "accuracy score  0.7932960893854749\n",
      "confusion matrix\n",
      " [[93 17]\n",
      " [20 49]]\n",
      "accuracy score  0.7752808988764045\n",
      "confusion matrix\n",
      " [[90 20]\n",
      " [20 48]]\n",
      "accuracy score  0.8089887640449438\n",
      "confusion matrix\n",
      " [[98 12]\n",
      " [22 46]]\n",
      "accuracy score  0.797752808988764\n",
      "confusion matrix\n",
      " [[98 12]\n",
      " [24 44]]\n",
      "accuracy score  0.8258426966292135\n",
      "confusion matrix\n",
      " [[96 13]\n",
      " [18 51]]\n",
      "mean accuracy score 0.80023225158496\n"
     ]
    }
   ],
   "source": [
    "kfold=StratifiedKFold(n_splits=5) # to get a balanced split\n",
    "accuracy=[]\n",
    "for train_index,test_index in kfold.split(x,y):\n",
    "    #print(\"TRAIN:\", train_index, \"TEST:\", test_index)\n",
    "    xtrain, xtest = x.iloc[train_index], x.iloc[test_index]\n",
    "    ytrain, ytest = y.iloc[train_index], y.iloc[test_index]\n",
    "    rf.fit(xtrain,ytrain)\n",
    "    y_pred=rf.predict(xtest)\n",
    "    print('accuracy score ',accuracy_score(ytest,y_pred))\n",
    "    accuracy.append(accuracy_score(ytest,y_pred))\n",
    "    print('confusion matrix\\n',confusion_matrix(ytest,y_pred))\n",
    "print('mean accuracy score',sum(accuracy)/len(accuracy))"
   ]
  },
  {
   "cell_type": "code",
   "execution_count": 84,
   "id": "flexible-proxy",
   "metadata": {},
   "outputs": [
    {
     "name": "stdout",
     "output_type": "stream",
     "text": [
      "accuracy score  0.7713004484304933\n",
      "confusion matrix \n",
      " [[103  19]\n",
      " [ 32  69]]\n",
      "classification report \n",
      "               precision    recall  f1-score   support\n",
      "\n",
      "           0       0.76      0.84      0.80       122\n",
      "           1       0.78      0.68      0.73       101\n",
      "\n",
      "    accuracy                           0.77       223\n",
      "   macro avg       0.77      0.76      0.77       223\n",
      "weighted avg       0.77      0.77      0.77       223\n",
      "\n"
     ]
    }
   ],
   "source": [
    "gb= GaussianNB()\n",
    "gb.fit(x_train,y_train)\n",
    "y_pred=gb.predict(x_test)\n",
    "print('accuracy score ',accuracy_score(y_test,y_pred))\n",
    "print('confusion matrix \\n',confusion_matrix(y_test,y_pred))\n",
    "print('classification report \\n',classification_report(y_test,y_pred))"
   ]
  },
  {
   "cell_type": "code",
   "execution_count": 85,
   "id": "aboriginal-windows",
   "metadata": {},
   "outputs": [
    {
     "name": "stdout",
     "output_type": "stream",
     "text": [
      "accuracy score  0.7877094972067039\n",
      "confusion matrix\n",
      " [[93 17]\n",
      " [21 48]]\n",
      "accuracy score  0.7808988764044944\n",
      "confusion matrix\n",
      " [[90 20]\n",
      " [19 49]]\n",
      "accuracy score  0.8089887640449438\n",
      "confusion matrix\n",
      " [[99 11]\n",
      " [23 45]]\n",
      "accuracy score  0.797752808988764\n",
      "confusion matrix\n",
      " [[99 11]\n",
      " [25 43]]\n",
      "accuracy score  0.8426966292134831\n",
      "confusion matrix\n",
      " [[97 12]\n",
      " [16 53]]\n",
      "mean accuracy score 0.8036093151716779\n"
     ]
    }
   ],
   "source": [
    "kfold=StratifiedKFold(n_splits=5) # to get a balanced split\n",
    "accuracy=[]\n",
    "for train_index,test_index in kfold.split(x,y):\n",
    "    #print(\"TRAIN:\", train_index, \"TEST:\", test_index)\n",
    "    xtrain, xtest = x.iloc[train_index], x.iloc[test_index]\n",
    "    ytrain, ytest = y.iloc[train_index], y.iloc[test_index]\n",
    "    rf.fit(xtrain,ytrain)\n",
    "    y_pred=rf.predict(xtest)\n",
    "    print('accuracy score ',accuracy_score(ytest,y_pred))\n",
    "    accuracy.append(accuracy_score(ytest,y_pred))\n",
    "    print('confusion matrix\\n',confusion_matrix(ytest,y_pred))\n",
    "print('mean accuracy score',sum(accuracy)/len(accuracy))"
   ]
  },
  {
   "cell_type": "code",
   "execution_count": 90,
   "id": "excited-failing",
   "metadata": {},
   "outputs": [
    {
     "name": "stdout",
     "output_type": "stream",
     "text": [
      "accuracy score  0.8026905829596412\n",
      "confusion matrix \n",
      " [[113   9]\n",
      " [ 35  66]]\n",
      "classification report \n",
      "               precision    recall  f1-score   support\n",
      "\n",
      "           0       0.76      0.93      0.84       122\n",
      "           1       0.88      0.65      0.75       101\n",
      "\n",
      "    accuracy                           0.80       223\n",
      "   macro avg       0.82      0.79      0.79       223\n",
      "weighted avg       0.82      0.80      0.80       223\n",
      "\n",
      "accuracy score  0.7932960893854749\n",
      "confusion matrix\n",
      " [[93 17]\n",
      " [20 49]]\n",
      "accuracy score  0.7808988764044944\n",
      "confusion matrix\n",
      " [[90 20]\n",
      " [19 49]]\n",
      "accuracy score  0.8258426966292135\n",
      "confusion matrix\n",
      " [[97 13]\n",
      " [18 50]]\n",
      "accuracy score  0.7865168539325843\n",
      "confusion matrix\n",
      " [[97 13]\n",
      " [25 43]]\n",
      "accuracy score  0.8258426966292135\n",
      "confusion matrix\n",
      " [[96 13]\n",
      " [18 51]]\n",
      "mean accuracy score 0.8024794425961961\n"
     ]
    }
   ],
   "source": [
    "sc=SVC()\n",
    "sc.fit(x_train,y_train)\n",
    "y_pred=sc.predict(x_test)\n",
    "print('accuracy score ',accuracy_score(y_test,y_pred))\n",
    "print('confusion matrix \\n',confusion_matrix(y_test,y_pred))\n",
    "print('classification report \\n',classification_report(y_test,y_pred))\n",
    "\n",
    "kfold=StratifiedKFold(n_splits=5) # to get a balanced split\n",
    "accuracy=[]\n",
    "for train_index,test_index in kfold.split(x,y):\n",
    "    #print(\"TRAIN:\", train_index, \"TEST:\", test_index)\n",
    "    xtrain, xtest = x.iloc[train_index], x.iloc[test_index]\n",
    "    ytrain, ytest = y.iloc[train_index], y.iloc[test_index]\n",
    "    rf.fit(xtrain,ytrain)\n",
    "    y_pred=rf.predict(xtest)\n",
    "    print('accuracy score ',accuracy_score(ytest,y_pred))\n",
    "    accuracy.append(accuracy_score(ytest,y_pred))\n",
    "    print('confusion matrix\\n',confusion_matrix(ytest,y_pred))\n",
    "print('mean accuracy score',sum(accuracy)/len(accuracy))"
   ]
  },
  {
   "cell_type": "markdown",
   "id": "careful-bankruptcy",
   "metadata": {},
   "source": [
    "# Tunning "
   ]
  },
  {
   "cell_type": "code",
   "execution_count": 129,
   "id": "certified-picture",
   "metadata": {},
   "outputs": [
    {
     "name": "stdout",
     "output_type": "stream",
     "text": [
      "Parameters currently in use:\n",
      "\n",
      "{'cv': None,\n",
      " 'error_score': nan,\n",
      " 'estimator': GridSearchCV(estimator=GaussianNB(),\n",
      "             param_grid={'C': [1.0, 10.0, 20.0, 50.0, 100.0, 150.0],\n",
      "                         'kernel': ['linear', 'poly', 'rbf', 'sigmoid']}),\n",
      " 'estimator__cv': None,\n",
      " 'estimator__error_score': nan,\n",
      " 'estimator__estimator': GaussianNB(),\n",
      " 'estimator__estimator__priors': None,\n",
      " 'estimator__estimator__var_smoothing': 1e-09,\n",
      " 'estimator__n_jobs': None,\n",
      " 'estimator__param_grid': {'C': [1.0, 10.0, 20.0, 50.0, 100.0, 150.0],\n",
      "                           'kernel': ['linear', 'poly', 'rbf', 'sigmoid']},\n",
      " 'estimator__pre_dispatch': '2*n_jobs',\n",
      " 'estimator__refit': True,\n",
      " 'estimator__return_train_score': False,\n",
      " 'estimator__scoring': None,\n",
      " 'estimator__verbose': 0,\n",
      " 'n_jobs': None,\n",
      " 'param_grid': {'C': [1.0, 10.0, 20.0, 50.0, 100.0, 150.0],\n",
      "                'kernel': ['linear', 'poly', 'rbf', 'sigmoid']},\n",
      " 'pre_dispatch': '2*n_jobs',\n",
      " 'refit': True,\n",
      " 'return_train_score': False,\n",
      " 'scoring': None,\n",
      " 'verbose': 0}\n"
     ]
    }
   ],
   "source": [
    "from pprint import pprint\n",
    "print('Parameters currently in use:\\n')\n",
    "pprint(gb.get_params())"
   ]
  },
  {
   "cell_type": "code",
   "execution_count": 131,
   "id": "together-miller",
   "metadata": {},
   "outputs": [
    {
     "ename": "ValueError",
     "evalue": "Invalid parameter C for estimator GridSearchCV(estimator=GridSearchCV(estimator=GridSearchCV(estimator=GaussianNB(),\n                                                           param_grid={'C': [1.0,\n                                                                             10.0,\n                                                                             20.0,\n                                                                             50.0,\n                                                                             100.0,\n                                                                             150.0],\n                                                                       'kernel': ['linear',\n                                                                                  'poly',\n                                                                                  'rbf',\n                                                                                  'sigmoid']}),\n                                    param_grid={'C': [1.0, 10.0, 20.0, 50.0,\n                                                      100.0, 150.0],\n                                                'kernel': ['linear', 'poly',\n                                                           'rbf', 'sigmoid']}),\n             param_grid={'C': [1.0, 10.0, 20.0, 50.0, 100.0, 150.0],\n                         'kernel': ['linear', 'poly', 'rbf', 'sigmoid']}). Check the list of available parameters with `estimator.get_params().keys()`.",
     "output_type": "error",
     "traceback": [
      "\u001b[1;31m------------\u001b[0m",
      "\u001b[1;31mValueError\u001b[0mTraceback (most recent call last)",
      "\u001b[1;32m<ipython-input-131-efa5c2d0c544>\u001b[0m in \u001b[0;36m<module>\u001b[1;34m\u001b[0m\n\u001b[0;32m      1\u001b[0m \u001b[0mgb\u001b[0m\u001b[1;33m=\u001b[0m \u001b[0mgrid_obj\u001b[0m \u001b[1;33m=\u001b[0m \u001b[0mGridSearchCV\u001b[0m\u001b[1;33m(\u001b[0m\u001b[0mgb\u001b[0m\u001b[1;33m,\u001b[0m \u001b[0mparameters\u001b[0m\u001b[1;33m)\u001b[0m\u001b[1;33m\u001b[0m\u001b[1;33m\u001b[0m\u001b[0m\n\u001b[1;32m----> 2\u001b[1;33m \u001b[0mgrid_obj\u001b[0m \u001b[1;33m=\u001b[0m \u001b[0mgrid_obj\u001b[0m\u001b[1;33m.\u001b[0m\u001b[0mfit\u001b[0m\u001b[1;33m(\u001b[0m\u001b[0mx_train\u001b[0m\u001b[1;33m,\u001b[0m \u001b[0my_train\u001b[0m\u001b[1;33m)\u001b[0m\u001b[1;33m\u001b[0m\u001b[1;33m\u001b[0m\u001b[0m\n\u001b[0m\u001b[0;32m      3\u001b[0m params_NB = {'C': [1.0, 10.0, 20.0, 50.0, 100.0, 150.0],\n\u001b[0;32m      4\u001b[0m                          'kernel': ['linear', 'poly', 'rbf', 'sigmoid']}\n\u001b[0;32m      5\u001b[0m gs_NB = GridSearchCV(estimator=gb, \n",
      "\u001b[1;32mF:\\anaconda\\lib\\site-packages\\sklearn\\utils\\validation.py\u001b[0m in \u001b[0;36minner_f\u001b[1;34m(*args, **kwargs)\u001b[0m\n\u001b[0;32m     61\u001b[0m             \u001b[0mextra_args\u001b[0m \u001b[1;33m=\u001b[0m \u001b[0mlen\u001b[0m\u001b[1;33m(\u001b[0m\u001b[0margs\u001b[0m\u001b[1;33m)\u001b[0m \u001b[1;33m-\u001b[0m \u001b[0mlen\u001b[0m\u001b[1;33m(\u001b[0m\u001b[0mall_args\u001b[0m\u001b[1;33m)\u001b[0m\u001b[1;33m\u001b[0m\u001b[1;33m\u001b[0m\u001b[0m\n\u001b[0;32m     62\u001b[0m             \u001b[1;32mif\u001b[0m \u001b[0mextra_args\u001b[0m \u001b[1;33m<=\u001b[0m \u001b[1;36m0\u001b[0m\u001b[1;33m:\u001b[0m\u001b[1;33m\u001b[0m\u001b[1;33m\u001b[0m\u001b[0m\n\u001b[1;32m---> 63\u001b[1;33m                 \u001b[1;32mreturn\u001b[0m \u001b[0mf\u001b[0m\u001b[1;33m(\u001b[0m\u001b[1;33m*\u001b[0m\u001b[0margs\u001b[0m\u001b[1;33m,\u001b[0m \u001b[1;33m**\u001b[0m\u001b[0mkwargs\u001b[0m\u001b[1;33m)\u001b[0m\u001b[1;33m\u001b[0m\u001b[1;33m\u001b[0m\u001b[0m\n\u001b[0m\u001b[0;32m     64\u001b[0m \u001b[1;33m\u001b[0m\u001b[0m\n\u001b[0;32m     65\u001b[0m             \u001b[1;31m# extra_args > 0\u001b[0m\u001b[1;33m\u001b[0m\u001b[1;33m\u001b[0m\u001b[1;33m\u001b[0m\u001b[0m\n",
      "\u001b[1;32mF:\\anaconda\\lib\\site-packages\\sklearn\\model_selection\\_search.py\u001b[0m in \u001b[0;36mfit\u001b[1;34m(self, X, y, groups, **fit_params)\u001b[0m\n\u001b[0;32m    839\u001b[0m                 \u001b[1;32mreturn\u001b[0m \u001b[0mresults\u001b[0m\u001b[1;33m\u001b[0m\u001b[1;33m\u001b[0m\u001b[0m\n\u001b[0;32m    840\u001b[0m \u001b[1;33m\u001b[0m\u001b[0m\n\u001b[1;32m--> 841\u001b[1;33m             \u001b[0mself\u001b[0m\u001b[1;33m.\u001b[0m\u001b[0m_run_search\u001b[0m\u001b[1;33m(\u001b[0m\u001b[0mevaluate_candidates\u001b[0m\u001b[1;33m)\u001b[0m\u001b[1;33m\u001b[0m\u001b[1;33m\u001b[0m\u001b[0m\n\u001b[0m\u001b[0;32m    842\u001b[0m \u001b[1;33m\u001b[0m\u001b[0m\n\u001b[0;32m    843\u001b[0m             \u001b[1;31m# multimetric is determined here because in the case of a callable\u001b[0m\u001b[1;33m\u001b[0m\u001b[1;33m\u001b[0m\u001b[1;33m\u001b[0m\u001b[0m\n",
      "\u001b[1;32mF:\\anaconda\\lib\\site-packages\\sklearn\\model_selection\\_search.py\u001b[0m in \u001b[0;36m_run_search\u001b[1;34m(self, evaluate_candidates)\u001b[0m\n\u001b[0;32m   1286\u001b[0m     \u001b[1;32mdef\u001b[0m \u001b[0m_run_search\u001b[0m\u001b[1;33m(\u001b[0m\u001b[0mself\u001b[0m\u001b[1;33m,\u001b[0m \u001b[0mevaluate_candidates\u001b[0m\u001b[1;33m)\u001b[0m\u001b[1;33m:\u001b[0m\u001b[1;33m\u001b[0m\u001b[1;33m\u001b[0m\u001b[0m\n\u001b[0;32m   1287\u001b[0m         \u001b[1;34m\"\"\"Search all candidates in param_grid\"\"\"\u001b[0m\u001b[1;33m\u001b[0m\u001b[1;33m\u001b[0m\u001b[0m\n\u001b[1;32m-> 1288\u001b[1;33m         \u001b[0mevaluate_candidates\u001b[0m\u001b[1;33m(\u001b[0m\u001b[0mParameterGrid\u001b[0m\u001b[1;33m(\u001b[0m\u001b[0mself\u001b[0m\u001b[1;33m.\u001b[0m\u001b[0mparam_grid\u001b[0m\u001b[1;33m)\u001b[0m\u001b[1;33m)\u001b[0m\u001b[1;33m\u001b[0m\u001b[1;33m\u001b[0m\u001b[0m\n\u001b[0m\u001b[0;32m   1289\u001b[0m \u001b[1;33m\u001b[0m\u001b[0m\n\u001b[0;32m   1290\u001b[0m \u001b[1;33m\u001b[0m\u001b[0m\n",
      "\u001b[1;32mF:\\anaconda\\lib\\site-packages\\sklearn\\model_selection\\_search.py\u001b[0m in \u001b[0;36mevaluate_candidates\u001b[1;34m(candidate_params, cv, more_results)\u001b[0m\n\u001b[0;32m    793\u001b[0m                               n_splits, n_candidates, n_candidates * n_splits))\n\u001b[0;32m    794\u001b[0m \u001b[1;33m\u001b[0m\u001b[0m\n\u001b[1;32m--> 795\u001b[1;33m                 out = parallel(delayed(_fit_and_score)(clone(base_estimator),\n\u001b[0m\u001b[0;32m    796\u001b[0m                                                        \u001b[0mX\u001b[0m\u001b[1;33m,\u001b[0m \u001b[0my\u001b[0m\u001b[1;33m,\u001b[0m\u001b[1;33m\u001b[0m\u001b[1;33m\u001b[0m\u001b[0m\n\u001b[0;32m    797\u001b[0m                                                        \u001b[0mtrain\u001b[0m\u001b[1;33m=\u001b[0m\u001b[0mtrain\u001b[0m\u001b[1;33m,\u001b[0m \u001b[0mtest\u001b[0m\u001b[1;33m=\u001b[0m\u001b[0mtest\u001b[0m\u001b[1;33m,\u001b[0m\u001b[1;33m\u001b[0m\u001b[1;33m\u001b[0m\u001b[0m\n",
      "\u001b[1;32mF:\\anaconda\\lib\\site-packages\\joblib\\parallel.py\u001b[0m in \u001b[0;36m__call__\u001b[1;34m(self, iterable)\u001b[0m\n\u001b[0;32m   1039\u001b[0m             \u001b[1;31m# remaining jobs.\u001b[0m\u001b[1;33m\u001b[0m\u001b[1;33m\u001b[0m\u001b[1;33m\u001b[0m\u001b[0m\n\u001b[0;32m   1040\u001b[0m             \u001b[0mself\u001b[0m\u001b[1;33m.\u001b[0m\u001b[0m_iterating\u001b[0m \u001b[1;33m=\u001b[0m \u001b[1;32mFalse\u001b[0m\u001b[1;33m\u001b[0m\u001b[1;33m\u001b[0m\u001b[0m\n\u001b[1;32m-> 1041\u001b[1;33m             \u001b[1;32mif\u001b[0m \u001b[0mself\u001b[0m\u001b[1;33m.\u001b[0m\u001b[0mdispatch_one_batch\u001b[0m\u001b[1;33m(\u001b[0m\u001b[0miterator\u001b[0m\u001b[1;33m)\u001b[0m\u001b[1;33m:\u001b[0m\u001b[1;33m\u001b[0m\u001b[1;33m\u001b[0m\u001b[0m\n\u001b[0m\u001b[0;32m   1042\u001b[0m                 \u001b[0mself\u001b[0m\u001b[1;33m.\u001b[0m\u001b[0m_iterating\u001b[0m \u001b[1;33m=\u001b[0m \u001b[0mself\u001b[0m\u001b[1;33m.\u001b[0m\u001b[0m_original_iterator\u001b[0m \u001b[1;32mis\u001b[0m \u001b[1;32mnot\u001b[0m \u001b[1;32mNone\u001b[0m\u001b[1;33m\u001b[0m\u001b[1;33m\u001b[0m\u001b[0m\n\u001b[0;32m   1043\u001b[0m \u001b[1;33m\u001b[0m\u001b[0m\n",
      "\u001b[1;32mF:\\anaconda\\lib\\site-packages\\joblib\\parallel.py\u001b[0m in \u001b[0;36mdispatch_one_batch\u001b[1;34m(self, iterator)\u001b[0m\n\u001b[0;32m    857\u001b[0m                 \u001b[1;32mreturn\u001b[0m \u001b[1;32mFalse\u001b[0m\u001b[1;33m\u001b[0m\u001b[1;33m\u001b[0m\u001b[0m\n\u001b[0;32m    858\u001b[0m             \u001b[1;32melse\u001b[0m\u001b[1;33m:\u001b[0m\u001b[1;33m\u001b[0m\u001b[1;33m\u001b[0m\u001b[0m\n\u001b[1;32m--> 859\u001b[1;33m                 \u001b[0mself\u001b[0m\u001b[1;33m.\u001b[0m\u001b[0m_dispatch\u001b[0m\u001b[1;33m(\u001b[0m\u001b[0mtasks\u001b[0m\u001b[1;33m)\u001b[0m\u001b[1;33m\u001b[0m\u001b[1;33m\u001b[0m\u001b[0m\n\u001b[0m\u001b[0;32m    860\u001b[0m                 \u001b[1;32mreturn\u001b[0m \u001b[1;32mTrue\u001b[0m\u001b[1;33m\u001b[0m\u001b[1;33m\u001b[0m\u001b[0m\n\u001b[0;32m    861\u001b[0m \u001b[1;33m\u001b[0m\u001b[0m\n",
      "\u001b[1;32mF:\\anaconda\\lib\\site-packages\\joblib\\parallel.py\u001b[0m in \u001b[0;36m_dispatch\u001b[1;34m(self, batch)\u001b[0m\n\u001b[0;32m    775\u001b[0m         \u001b[1;32mwith\u001b[0m \u001b[0mself\u001b[0m\u001b[1;33m.\u001b[0m\u001b[0m_lock\u001b[0m\u001b[1;33m:\u001b[0m\u001b[1;33m\u001b[0m\u001b[1;33m\u001b[0m\u001b[0m\n\u001b[0;32m    776\u001b[0m             \u001b[0mjob_idx\u001b[0m \u001b[1;33m=\u001b[0m \u001b[0mlen\u001b[0m\u001b[1;33m(\u001b[0m\u001b[0mself\u001b[0m\u001b[1;33m.\u001b[0m\u001b[0m_jobs\u001b[0m\u001b[1;33m)\u001b[0m\u001b[1;33m\u001b[0m\u001b[1;33m\u001b[0m\u001b[0m\n\u001b[1;32m--> 777\u001b[1;33m             \u001b[0mjob\u001b[0m \u001b[1;33m=\u001b[0m \u001b[0mself\u001b[0m\u001b[1;33m.\u001b[0m\u001b[0m_backend\u001b[0m\u001b[1;33m.\u001b[0m\u001b[0mapply_async\u001b[0m\u001b[1;33m(\u001b[0m\u001b[0mbatch\u001b[0m\u001b[1;33m,\u001b[0m \u001b[0mcallback\u001b[0m\u001b[1;33m=\u001b[0m\u001b[0mcb\u001b[0m\u001b[1;33m)\u001b[0m\u001b[1;33m\u001b[0m\u001b[1;33m\u001b[0m\u001b[0m\n\u001b[0m\u001b[0;32m    778\u001b[0m             \u001b[1;31m# A job can complete so quickly than its callback is\u001b[0m\u001b[1;33m\u001b[0m\u001b[1;33m\u001b[0m\u001b[1;33m\u001b[0m\u001b[0m\n\u001b[0;32m    779\u001b[0m             \u001b[1;31m# called before we get here, causing self._jobs to\u001b[0m\u001b[1;33m\u001b[0m\u001b[1;33m\u001b[0m\u001b[1;33m\u001b[0m\u001b[0m\n",
      "\u001b[1;32mF:\\anaconda\\lib\\site-packages\\joblib\\_parallel_backends.py\u001b[0m in \u001b[0;36mapply_async\u001b[1;34m(self, func, callback)\u001b[0m\n\u001b[0;32m    206\u001b[0m     \u001b[1;32mdef\u001b[0m \u001b[0mapply_async\u001b[0m\u001b[1;33m(\u001b[0m\u001b[0mself\u001b[0m\u001b[1;33m,\u001b[0m \u001b[0mfunc\u001b[0m\u001b[1;33m,\u001b[0m \u001b[0mcallback\u001b[0m\u001b[1;33m=\u001b[0m\u001b[1;32mNone\u001b[0m\u001b[1;33m)\u001b[0m\u001b[1;33m:\u001b[0m\u001b[1;33m\u001b[0m\u001b[1;33m\u001b[0m\u001b[0m\n\u001b[0;32m    207\u001b[0m         \u001b[1;34m\"\"\"Schedule a func to be run\"\"\"\u001b[0m\u001b[1;33m\u001b[0m\u001b[1;33m\u001b[0m\u001b[0m\n\u001b[1;32m--> 208\u001b[1;33m         \u001b[0mresult\u001b[0m \u001b[1;33m=\u001b[0m \u001b[0mImmediateResult\u001b[0m\u001b[1;33m(\u001b[0m\u001b[0mfunc\u001b[0m\u001b[1;33m)\u001b[0m\u001b[1;33m\u001b[0m\u001b[1;33m\u001b[0m\u001b[0m\n\u001b[0m\u001b[0;32m    209\u001b[0m         \u001b[1;32mif\u001b[0m \u001b[0mcallback\u001b[0m\u001b[1;33m:\u001b[0m\u001b[1;33m\u001b[0m\u001b[1;33m\u001b[0m\u001b[0m\n\u001b[0;32m    210\u001b[0m             \u001b[0mcallback\u001b[0m\u001b[1;33m(\u001b[0m\u001b[0mresult\u001b[0m\u001b[1;33m)\u001b[0m\u001b[1;33m\u001b[0m\u001b[1;33m\u001b[0m\u001b[0m\n",
      "\u001b[1;32mF:\\anaconda\\lib\\site-packages\\joblib\\_parallel_backends.py\u001b[0m in \u001b[0;36m__init__\u001b[1;34m(self, batch)\u001b[0m\n\u001b[0;32m    570\u001b[0m         \u001b[1;31m# Don't delay the application, to avoid keeping the input\u001b[0m\u001b[1;33m\u001b[0m\u001b[1;33m\u001b[0m\u001b[1;33m\u001b[0m\u001b[0m\n\u001b[0;32m    571\u001b[0m         \u001b[1;31m# arguments in memory\u001b[0m\u001b[1;33m\u001b[0m\u001b[1;33m\u001b[0m\u001b[1;33m\u001b[0m\u001b[0m\n\u001b[1;32m--> 572\u001b[1;33m         \u001b[0mself\u001b[0m\u001b[1;33m.\u001b[0m\u001b[0mresults\u001b[0m \u001b[1;33m=\u001b[0m \u001b[0mbatch\u001b[0m\u001b[1;33m(\u001b[0m\u001b[1;33m)\u001b[0m\u001b[1;33m\u001b[0m\u001b[1;33m\u001b[0m\u001b[0m\n\u001b[0m\u001b[0;32m    573\u001b[0m \u001b[1;33m\u001b[0m\u001b[0m\n\u001b[0;32m    574\u001b[0m     \u001b[1;32mdef\u001b[0m \u001b[0mget\u001b[0m\u001b[1;33m(\u001b[0m\u001b[0mself\u001b[0m\u001b[1;33m)\u001b[0m\u001b[1;33m:\u001b[0m\u001b[1;33m\u001b[0m\u001b[1;33m\u001b[0m\u001b[0m\n",
      "\u001b[1;32mF:\\anaconda\\lib\\site-packages\\joblib\\parallel.py\u001b[0m in \u001b[0;36m__call__\u001b[1;34m(self)\u001b[0m\n\u001b[0;32m    260\u001b[0m         \u001b[1;31m# change the default number of processes to -1\u001b[0m\u001b[1;33m\u001b[0m\u001b[1;33m\u001b[0m\u001b[1;33m\u001b[0m\u001b[0m\n\u001b[0;32m    261\u001b[0m         \u001b[1;32mwith\u001b[0m \u001b[0mparallel_backend\u001b[0m\u001b[1;33m(\u001b[0m\u001b[0mself\u001b[0m\u001b[1;33m.\u001b[0m\u001b[0m_backend\u001b[0m\u001b[1;33m,\u001b[0m \u001b[0mn_jobs\u001b[0m\u001b[1;33m=\u001b[0m\u001b[0mself\u001b[0m\u001b[1;33m.\u001b[0m\u001b[0m_n_jobs\u001b[0m\u001b[1;33m)\u001b[0m\u001b[1;33m:\u001b[0m\u001b[1;33m\u001b[0m\u001b[1;33m\u001b[0m\u001b[0m\n\u001b[1;32m--> 262\u001b[1;33m             return [func(*args, **kwargs)\n\u001b[0m\u001b[0;32m    263\u001b[0m                     for func, args, kwargs in self.items]\n\u001b[0;32m    264\u001b[0m \u001b[1;33m\u001b[0m\u001b[0m\n",
      "\u001b[1;32mF:\\anaconda\\lib\\site-packages\\joblib\\parallel.py\u001b[0m in \u001b[0;36m<listcomp>\u001b[1;34m(.0)\u001b[0m\n\u001b[0;32m    260\u001b[0m         \u001b[1;31m# change the default number of processes to -1\u001b[0m\u001b[1;33m\u001b[0m\u001b[1;33m\u001b[0m\u001b[1;33m\u001b[0m\u001b[0m\n\u001b[0;32m    261\u001b[0m         \u001b[1;32mwith\u001b[0m \u001b[0mparallel_backend\u001b[0m\u001b[1;33m(\u001b[0m\u001b[0mself\u001b[0m\u001b[1;33m.\u001b[0m\u001b[0m_backend\u001b[0m\u001b[1;33m,\u001b[0m \u001b[0mn_jobs\u001b[0m\u001b[1;33m=\u001b[0m\u001b[0mself\u001b[0m\u001b[1;33m.\u001b[0m\u001b[0m_n_jobs\u001b[0m\u001b[1;33m)\u001b[0m\u001b[1;33m:\u001b[0m\u001b[1;33m\u001b[0m\u001b[1;33m\u001b[0m\u001b[0m\n\u001b[1;32m--> 262\u001b[1;33m             return [func(*args, **kwargs)\n\u001b[0m\u001b[0;32m    263\u001b[0m                     for func, args, kwargs in self.items]\n\u001b[0;32m    264\u001b[0m \u001b[1;33m\u001b[0m\u001b[0m\n",
      "\u001b[1;32mF:\\anaconda\\lib\\site-packages\\sklearn\\utils\\fixes.py\u001b[0m in \u001b[0;36m__call__\u001b[1;34m(self, *args, **kwargs)\u001b[0m\n\u001b[0;32m    220\u001b[0m     \u001b[1;32mdef\u001b[0m \u001b[0m__call__\u001b[0m\u001b[1;33m(\u001b[0m\u001b[0mself\u001b[0m\u001b[1;33m,\u001b[0m \u001b[1;33m*\u001b[0m\u001b[0margs\u001b[0m\u001b[1;33m,\u001b[0m \u001b[1;33m**\u001b[0m\u001b[0mkwargs\u001b[0m\u001b[1;33m)\u001b[0m\u001b[1;33m:\u001b[0m\u001b[1;33m\u001b[0m\u001b[1;33m\u001b[0m\u001b[0m\n\u001b[0;32m    221\u001b[0m         \u001b[1;32mwith\u001b[0m \u001b[0mconfig_context\u001b[0m\u001b[1;33m(\u001b[0m\u001b[1;33m**\u001b[0m\u001b[0mself\u001b[0m\u001b[1;33m.\u001b[0m\u001b[0mconfig\u001b[0m\u001b[1;33m)\u001b[0m\u001b[1;33m:\u001b[0m\u001b[1;33m\u001b[0m\u001b[1;33m\u001b[0m\u001b[0m\n\u001b[1;32m--> 222\u001b[1;33m             \u001b[1;32mreturn\u001b[0m \u001b[0mself\u001b[0m\u001b[1;33m.\u001b[0m\u001b[0mfunction\u001b[0m\u001b[1;33m(\u001b[0m\u001b[1;33m*\u001b[0m\u001b[0margs\u001b[0m\u001b[1;33m,\u001b[0m \u001b[1;33m**\u001b[0m\u001b[0mkwargs\u001b[0m\u001b[1;33m)\u001b[0m\u001b[1;33m\u001b[0m\u001b[1;33m\u001b[0m\u001b[0m\n\u001b[0m",
      "\u001b[1;32mF:\\anaconda\\lib\\site-packages\\sklearn\\model_selection\\_validation.py\u001b[0m in \u001b[0;36m_fit_and_score\u001b[1;34m(estimator, X, y, scorer, train, test, verbose, parameters, fit_params, return_train_score, return_parameters, return_n_test_samples, return_times, return_estimator, split_progress, candidate_progress, error_score)\u001b[0m\n\u001b[0;32m    579\u001b[0m             \u001b[0mcloned_parameters\u001b[0m\u001b[1;33m[\u001b[0m\u001b[0mk\u001b[0m\u001b[1;33m]\u001b[0m \u001b[1;33m=\u001b[0m \u001b[0mclone\u001b[0m\u001b[1;33m(\u001b[0m\u001b[0mv\u001b[0m\u001b[1;33m,\u001b[0m \u001b[0msafe\u001b[0m\u001b[1;33m=\u001b[0m\u001b[1;32mFalse\u001b[0m\u001b[1;33m)\u001b[0m\u001b[1;33m\u001b[0m\u001b[1;33m\u001b[0m\u001b[0m\n\u001b[0;32m    580\u001b[0m \u001b[1;33m\u001b[0m\u001b[0m\n\u001b[1;32m--> 581\u001b[1;33m         \u001b[0mestimator\u001b[0m \u001b[1;33m=\u001b[0m \u001b[0mestimator\u001b[0m\u001b[1;33m.\u001b[0m\u001b[0mset_params\u001b[0m\u001b[1;33m(\u001b[0m\u001b[1;33m**\u001b[0m\u001b[0mcloned_parameters\u001b[0m\u001b[1;33m)\u001b[0m\u001b[1;33m\u001b[0m\u001b[1;33m\u001b[0m\u001b[0m\n\u001b[0m\u001b[0;32m    582\u001b[0m \u001b[1;33m\u001b[0m\u001b[0m\n\u001b[0;32m    583\u001b[0m     \u001b[0mstart_time\u001b[0m \u001b[1;33m=\u001b[0m \u001b[0mtime\u001b[0m\u001b[1;33m.\u001b[0m\u001b[0mtime\u001b[0m\u001b[1;33m(\u001b[0m\u001b[1;33m)\u001b[0m\u001b[1;33m\u001b[0m\u001b[1;33m\u001b[0m\u001b[0m\n",
      "\u001b[1;32mF:\\anaconda\\lib\\site-packages\\sklearn\\base.py\u001b[0m in \u001b[0;36mset_params\u001b[1;34m(self, **params)\u001b[0m\n\u001b[0;32m    228\u001b[0m             \u001b[0mkey\u001b[0m\u001b[1;33m,\u001b[0m \u001b[0mdelim\u001b[0m\u001b[1;33m,\u001b[0m \u001b[0msub_key\u001b[0m \u001b[1;33m=\u001b[0m \u001b[0mkey\u001b[0m\u001b[1;33m.\u001b[0m\u001b[0mpartition\u001b[0m\u001b[1;33m(\u001b[0m\u001b[1;34m'__'\u001b[0m\u001b[1;33m)\u001b[0m\u001b[1;33m\u001b[0m\u001b[1;33m\u001b[0m\u001b[0m\n\u001b[0;32m    229\u001b[0m             \u001b[1;32mif\u001b[0m \u001b[0mkey\u001b[0m \u001b[1;32mnot\u001b[0m \u001b[1;32min\u001b[0m \u001b[0mvalid_params\u001b[0m\u001b[1;33m:\u001b[0m\u001b[1;33m\u001b[0m\u001b[1;33m\u001b[0m\u001b[0m\n\u001b[1;32m--> 230\u001b[1;33m                 raise ValueError('Invalid parameter %s for estimator %s. '\n\u001b[0m\u001b[0;32m    231\u001b[0m                                  \u001b[1;34m'Check the list of available parameters '\u001b[0m\u001b[1;33m\u001b[0m\u001b[1;33m\u001b[0m\u001b[0m\n\u001b[0;32m    232\u001b[0m                                  \u001b[1;34m'with `estimator.get_params().keys()`.'\u001b[0m \u001b[1;33m%\u001b[0m\u001b[1;33m\u001b[0m\u001b[1;33m\u001b[0m\u001b[0m\n",
      "\u001b[1;31mValueError\u001b[0m: Invalid parameter C for estimator GridSearchCV(estimator=GridSearchCV(estimator=GridSearchCV(estimator=GaussianNB(),\n                                                           param_grid={'C': [1.0,\n                                                                             10.0,\n                                                                             20.0,\n                                                                             50.0,\n                                                                             100.0,\n                                                                             150.0],\n                                                                       'kernel': ['linear',\n                                                                                  'poly',\n                                                                                  'rbf',\n                                                                                  'sigmoid']}),\n                                    param_grid={'C': [1.0, 10.0, 20.0, 50.0,\n                                                      100.0, 150.0],\n                                                'kernel': ['linear', 'poly',\n                                                           'rbf', 'sigmoid']}),\n             param_grid={'C': [1.0, 10.0, 20.0, 50.0, 100.0, 150.0],\n                         'kernel': ['linear', 'poly', 'rbf', 'sigmoid']}). Check the list of available parameters with `estimator.get_params().keys()`."
     ]
    }
   ],
   "source": [
    "gb= grid_obj = GridSearchCV(gb, parameters)\n",
    "grid_obj = grid_obj.fit(x_train, y_train)\n",
    "params_NB = {'C': [1.0, 10.0, 20.0, 50.0, 100.0, 150.0],\n",
    "                         'kernel': ['linear', 'poly', 'rbf', 'sigmoid']}\n",
    "gs_NB = GridSearchCV(estimator=gb, \n",
    "                 param_grid=params_NB, \n",
    "                 cv=10,   # use any cross validation technique \n",
    "                 verbose=1, \n",
    "                 scoring='accuracy') \n",
    "gs_NB.fit(x_train, y_train)\n",
    "print('best score', gs_NB.best_score_)\n",
    "gbbest=gs_NB.best_params_\n",
    "print(gbbest)"
   ]
  },
  {
   "cell_type": "markdown",
   "id": "average-mongolia",
   "metadata": {},
   "source": [
    "# Decision tree "
   ]
  },
  {
   "cell_type": "code",
   "execution_count": 124,
   "id": "abroad-graph",
   "metadata": {},
   "outputs": [
    {
     "name": "stdout",
     "output_type": "stream",
     "text": [
      "best score  0.8324739936680234\n",
      "DecisionTreeClassifier(criterion='entropy', max_depth=9, max_features='sqrt',\n",
      "                       min_samples_leaf=3, random_state=42)\n"
     ]
    }
   ],
   "source": [
    "params={'criterion':['gini', 'entropy'],\n",
    "        'max_depth':[3,4,5,6,7,8,9,10],\n",
    "        'splitter':['best','random'],\n",
    "        'min_samples_split':[2,4,6,10,12],\n",
    "        'min_samples_leaf':[1,2,3,4],\n",
    "        'max_features':['sqrt','log2',None],\n",
    "        'random_state':[42,]}\n",
    "\n",
    "dt_reg=GridSearchCV(estimator=dt,\n",
    "                    param_grid=params,\n",
    "                    scoring='accuracy',\n",
    "                    cv=10,\n",
    "                    n_jobs=-1)\n",
    "\n",
    "dt_reg.fit(x_train,y_train)\n",
    "print('best score ',dt_reg.best_score_)\n",
    "dtbest=dt_reg.best_estimator_\n",
    "print(dtbest)"
   ]
  },
  {
   "cell_type": "code",
   "execution_count": 125,
   "id": "running-footage",
   "metadata": {},
   "outputs": [
    {
     "name": "stdout",
     "output_type": "stream",
     "text": [
      "accuracy score  0.776536312849162\n",
      "confusion matrix\n",
      " [[92 18]\n",
      " [22 47]]\n",
      "accuracy score  0.7415730337078652\n",
      "confusion matrix\n",
      " [[87 23]\n",
      " [23 45]]\n",
      "accuracy score  0.8539325842696629\n",
      "confusion matrix\n",
      " [[103   7]\n",
      " [ 19  49]]\n",
      "accuracy score  0.797752808988764\n",
      "confusion matrix\n",
      " [[99 11]\n",
      " [25 43]]\n",
      "accuracy score  0.7921348314606742\n",
      "confusion matrix\n",
      " [[95 14]\n",
      " [23 46]]\n",
      "mean accuracy score 0.7923859142552256\n"
     ]
    }
   ],
   "source": [
    "kfold=StratifiedKFold(n_splits=5) # to get a balanced split\n",
    "accuracy=[]\n",
    "for train_index,test_index in kfold.split(x,y):\n",
    "    #print(\"TRAIN:\", train_index, \"TEST:\", test_index)\n",
    "    xtrain, xtest = x.iloc[train_index], x.iloc[test_index]\n",
    "    ytrain, ytest = y.iloc[train_index], y.iloc[test_index]\n",
    "    dtbest.fit(xtrain,ytrain)\n",
    "    y_pred=dtbest.predict(xtest)\n",
    "    print('accuracy score ',accuracy_score(ytest,y_pred))\n",
    "    accuracy.append(accuracy_score(ytest,y_pred))\n",
    "    print('confusion matrix\\n',confusion_matrix(ytest,y_pred))\n",
    "print('mean accuracy score',sum(accuracy)/len(accuracy))"
   ]
  },
  {
   "cell_type": "code",
   "execution_count": null,
   "id": "intelligent-highlight",
   "metadata": {},
   "outputs": [],
   "source": []
  },
  {
   "cell_type": "code",
   "execution_count": 133,
   "id": "collaborative-wildlife",
   "metadata": {},
   "outputs": [
    {
     "name": "stderr",
     "output_type": "stream",
     "text": [
      "F:\\anaconda\\lib\\site-packages\\sklearn\\model_selection\\_search.py:918: UserWarning: One or more of the test scores are non-finite: [       nan        nan        nan        nan 0.82345093 0.82044324\n",
      " 0.82193578 0.82193578 0.82648123 0.82797377 0.82496608 0.82496608\n",
      "        nan        nan        nan        nan        nan        nan\n",
      "        nan        nan        nan        nan        nan        nan\n",
      " 0.82645862 0.82944369 0.81897332 0.81897332 0.82046585 0.82349616\n",
      " 0.82347354 0.82347354        nan        nan        nan        nan\n",
      "        nan        nan        nan        nan        nan        nan\n",
      "        nan        nan 0.82494346 0.82648123 0.81897332 0.81897332\n",
      " 0.82645862 0.8294663  0.83095884 0.83095884        nan        nan\n",
      "        nan        nan        nan        nan        nan        nan\n",
      "        nan        nan        nan        nan 0.8189507  0.82648123\n",
      " 0.81601085 0.81601085 0.82645862 0.82799638 0.82948892 0.82948892\n",
      "        nan        nan        nan        nan        nan        nan\n",
      "        nan        nan        nan        nan        nan        nan\n",
      " 0.82347354 0.82648123 0.82195839 0.82195839 0.82498869 0.82046585\n",
      " 0.81743555 0.81743555        nan        nan        nan        nan\n",
      "        nan        nan        nan        nan        nan        nan\n",
      "        nan        nan 0.81750339 0.82347354 0.82496608 0.82496608\n",
      " 0.82795115 0.82648123 0.82645862 0.82645862        nan        nan\n",
      "        nan        nan        nan        nan        nan        nan\n",
      "        nan        nan        nan        nan 0.82496608 0.82347354\n",
      " 0.81901854 0.81901854 0.82795115 0.82200362 0.82797377 0.82797377\n",
      "        nan        nan        nan        nan        nan        nan\n",
      "        nan        nan        nan        nan        nan        nan\n",
      " 0.82797377 0.8294663  0.81897332 0.81897332 0.83093623 0.82200362\n",
      " 0.82650384 0.82650384        nan        nan        nan        nan\n",
      "        nan        nan        nan        nan]\n",
      "  warnings.warn(\n"
     ]
    },
    {
     "name": "stdout",
     "output_type": "stream",
     "text": [
      "best score  0.8309588421528721\n",
      "RandomForestClassifier(max_depth=7, max_samples=445, min_samples_leaf=2,\n",
      "                       random_state=42)\n"
     ]
    }
   ],
   "source": [
    "para={'criterion':['gini','entropy'],\n",
    "     'max_depth':[5,6,7,8],\n",
    "     'min_samples_split':[2,4],\n",
    "     'min_samples_leaf':[1,2],\n",
    "      'random_state':[42,],\n",
    "     'max_samples':[int(i) for i in np.linspace(0,890,5)]\n",
    "     } \n",
    "\n",
    "rf_reg=GridSearchCV(estimator=rf,\n",
    "                    param_grid=para,\n",
    "                    scoring='accuracy',\n",
    "                    cv=10,\n",
    "                    n_jobs=-1)\n",
    "\n",
    "rf_reg.fit(x_train,y_train)\n",
    "print('best score ',rf_reg.best_score_)\n",
    "rfbest=rf_reg.best_estimator_\n",
    "print(rfbest)"
   ]
  },
  {
   "cell_type": "code",
   "execution_count": 134,
   "id": "adequate-player",
   "metadata": {},
   "outputs": [
    {
     "name": "stdout",
     "output_type": "stream",
     "text": [
      "accuracy score  0.7821229050279329\n",
      "confusion matrix\n",
      " [[95 15]\n",
      " [24 45]]\n",
      "accuracy score  0.8089887640449438\n",
      "confusion matrix\n",
      " [[97 13]\n",
      " [21 47]]\n",
      "accuracy score  0.8146067415730337\n",
      "confusion matrix\n",
      " [[98 12]\n",
      " [21 47]]\n",
      "accuracy score  0.7865168539325843\n",
      "confusion matrix\n",
      " [[103   7]\n",
      " [ 31  37]]\n",
      "accuracy score  0.8370786516853933\n",
      "confusion matrix\n",
      " [[100   9]\n",
      " [ 20  49]]\n",
      "mean accuracy score 0.8058627832527776\n"
     ]
    }
   ],
   "source": [
    "kfold=StratifiedKFold(n_splits=5) \n",
    "accuracy=[]\n",
    "for train_index,test_index in kfold.split(x,y):\n",
    "    xtrain, xtest = x.iloc[train_index], x.iloc[test_index]\n",
    "    ytrain, ytest = y.iloc[train_index], y.iloc[test_index]\n",
    "    rfbest.fit(xtrain,ytrain)\n",
    "    y_pred=rfbest.predict(xtest)\n",
    "    print('accuracy score ',accuracy_score(ytest,y_pred))\n",
    "    accuracy.append(accuracy_score(ytest,y_pred))\n",
    "    print('confusion matrix\\n',confusion_matrix(ytest,y_pred))\n",
    "print('mean accuracy score',sum(accuracy)/len(accuracy))"
   ]
  },
  {
   "cell_type": "markdown",
   "id": "common-tiffany",
   "metadata": {},
   "source": [
    "# Saving the model"
   ]
  },
  {
   "cell_type": "code",
   "execution_count": 135,
   "id": "potential-virginia",
   "metadata": {},
   "outputs": [
    {
     "data": {
      "text/plain": [
       "['titanic.pkl']"
      ]
     },
     "execution_count": 135,
     "metadata": {},
     "output_type": "execute_result"
    }
   ],
   "source": [
    "import joblib \n",
    "joblib.dump(rf,'titanic.pkl')"
   ]
  },
  {
   "cell_type": "markdown",
   "id": "dutch-hearts",
   "metadata": {},
   "source": [
    "# load the model"
   ]
  },
  {
   "cell_type": "code",
   "execution_count": 136,
   "id": "solar-atlantic",
   "metadata": {},
   "outputs": [
    {
     "data": {
      "text/plain": [
       "0.8385650224215246"
      ]
     },
     "execution_count": 136,
     "metadata": {},
     "output_type": "execute_result"
    }
   ],
   "source": [
    "\n",
    "model=joblib.load('titanic.pkl')\n",
    "y_pred=model.predict(x_test)\n",
    "accuracy_score(y_test,y_pred)"
   ]
  },
  {
   "cell_type": "code",
   "execution_count": null,
   "id": "swedish-congress",
   "metadata": {},
   "outputs": [],
   "source": []
  }
 ],
 "metadata": {
  "kernelspec": {
   "display_name": "Python 3",
   "language": "python",
   "name": "python3"
  },
  "language_info": {
   "codemirror_mode": {
    "name": "ipython",
    "version": 3
   },
   "file_extension": ".py",
   "mimetype": "text/x-python",
   "name": "python",
   "nbconvert_exporter": "python",
   "pygments_lexer": "ipython3",
   "version": "3.8.5"
  }
 },
 "nbformat": 4,
 "nbformat_minor": 5
}
